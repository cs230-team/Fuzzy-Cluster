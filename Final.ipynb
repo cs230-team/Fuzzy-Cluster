{
 "cells": [
  {
   "cell_type": "code",
   "execution_count": 1,
   "metadata": {
    "collapsed": true
   },
   "outputs": [],
   "source": [
    "import skfuzzy as fuzz\n",
    "import numpy as np\n",
    "import matplotlib.pyplot as plt\n",
    "import json"
   ]
  },
  {
   "cell_type": "code",
   "execution_count": 2,
   "metadata": {
    "collapsed": false
   },
   "outputs": [
    {
     "data": {
      "text/plain": [
       "(48, 264)"
      ]
     },
     "execution_count": 2,
     "metadata": {},
     "output_type": "execute_result"
    }
   ],
   "source": [
    "my_data = np.genfromtxt('dataset/mat_csv.csv', delimiter=',')\n",
    "my_data.shape"
   ]
  },
  {
   "cell_type": "code",
   "execution_count": 106,
   "metadata": {
    "collapsed": false
   },
   "outputs": [
    {
     "data": {
      "text/plain": [
       "array([1. , 1.1, 1.2, 1.3, 1.4, 1.5, 1.6, 1.7, 1.8, 1.9, 2. , 2.1, 2.2,\n",
       "       2.3, 2.4, 2.5, 2.6])"
      ]
     },
     "execution_count": 106,
     "metadata": {},
     "output_type": "execute_result"
    }
   ],
   "source": [
    "np.linspace(1, 2.6, 17)"
   ]
  },
  {
   "cell_type": "code",
   "execution_count": 107,
   "metadata": {
    "collapsed": false
   },
   "outputs": [
    {
     "name": "stdout",
     "output_type": "stream",
     "text": [
      "12\n",
      "15\n",
      "18\n",
      "21\n",
      "24\n",
      "27\n",
      "30\n",
      "33\n",
      "36\n",
      "39\n",
      "42\n",
      "45\n",
      "48\n"
     ]
    }
   ],
   "source": [
    "clusters_num = [i for i in range(10, 50)]\n",
    "fpcs_vals = {}\n",
    "m_vals = np.linspace(1, 2.6, 17)\n",
    "for cluster in clusters_num:\n",
    "    fpcs_val = []\n",
    "    for m_val in m_vals:\n",
    "        cntr, u, u_0, d, jm, p, fpc = fuzz.cmeans(my_data, cluster, m_val, error = 0.0001, maxiter = 10000)\n",
    "        #fpcs.append(fpc)\n",
    "        fpcs_val.append(fpc)\n",
    "    fpcs_vals[cluster] = fpcs_val\n",
    "    if(cluster % 3 == 0):\n",
    "        print(cluster)"
   ]
  },
  {
   "cell_type": "code",
   "execution_count": 125,
   "metadata": {
    "collapsed": false
   },
   "outputs": [
    {
     "data": {
      "text/plain": [
       "[1.0,\n",
       " 0.9764180036508494,\n",
       " 0.8777696375512017,\n",
       " 0.8019794133575253,\n",
       " 0.7001293593010971,\n",
       " 0.5338894866362405,\n",
       " 0.4927716041058199,\n",
       " 0.4055824015164029,\n",
       " 0.3528000576196446,\n",
       " 0.3137709446599264,\n",
       " 0.2743894082820673,\n",
       " 0.2582300015885808,\n",
       " 0.23773676085047118,\n",
       " 0.22068431007121014,\n",
       " 0.2125280494764404,\n",
       " 0.2041324804062378,\n",
       " 0.20030211814949794]"
      ]
     },
     "execution_count": 125,
     "metadata": {},
     "output_type": "execute_result"
    }
   ],
   "source": [
    "fpcs_vals[14]"
   ]
  },
  {
   "cell_type": "code",
   "execution_count": 127,
   "metadata": {
    "collapsed": false
   },
   "outputs": [
    {
     "data": {
      "text/plain": [
       "array([0.5, 0.6, 0.7, 0.8, 0.9, 1. , 1.1, 1.2, 1.3, 1.4, 1.5, 1.6])"
      ]
     },
     "execution_count": 127,
     "metadata": {},
     "output_type": "execute_result"
    }
   ],
   "source": [
    "np.linspace(0.5, 1.6, 12)"
   ]
  },
  {
   "cell_type": "code",
   "execution_count": 130,
   "metadata": {
    "collapsed": false
   },
   "outputs": [],
   "source": [
    "m_vals = np.linspace(0.5, 1.6, 12)\n",
    "fpc_val1 = []\n",
    "for m_val in m_vals:\n",
    "    cntr, u, u_0, d, jm, p, fpc = fuzz.cmeans(my_data, 15, m_val, error = 0.0001, maxiter = 10000)\n",
    "    #fpcs.append(fpc)\n",
    "    fpc_val1.append(fpc)"
   ]
  },
  {
   "cell_type": "code",
   "execution_count": 131,
   "metadata": {
    "collapsed": false
   },
   "outputs": [
    {
     "data": {
      "text/plain": [
       "[0.0941825632594516,\n",
       " 0.11483446292928791,\n",
       " 0.1357391441508072,\n",
       " 0.16002462087395383,\n",
       " 0.22219400641746298,\n",
       " 0.96875,\n",
       " 0.9587923143277294,\n",
       " 0.9173384639086127,\n",
       " 0.782660292191768,\n",
       " 0.7068804498292915,\n",
       " 0.5741244066536922,\n",
       " 0.4647551879290406]"
      ]
     },
     "execution_count": 131,
     "metadata": {},
     "output_type": "execute_result"
    }
   ],
   "source": [
    "fpc_val1"
   ]
  },
  {
   "cell_type": "code",
   "execution_count": 132,
   "metadata": {
    "collapsed": false
   },
   "outputs": [],
   "source": [
    "m_vals = np.linspace(0.5, 1.6, 12)\n",
    "fpc_val1 = []\n",
    "for m_val in m_vals:\n",
    "    cntr, u, u_0, d, jm, p, fpc = fuzz.cmeans(my_data, 14, m_val, error = 0.0001, maxiter = 10000)\n",
    "    #fpcs.append(fpc)\n",
    "    fpc_val1.append(fpc)"
   ]
  },
  {
   "cell_type": "code",
   "execution_count": 133,
   "metadata": {
    "collapsed": false
   },
   "outputs": [
    {
     "data": {
      "text/plain": [
       "[0.11128252188634746,\n",
       " 0.12869200273244782,\n",
       " 0.1373299948725613,\n",
       " 0.1407535870795508,\n",
       " 0.22891772932288978,\n",
       " 0.9873737373737375,\n",
       " 0.9575856367986249,\n",
       " 0.8692811587051104,\n",
       " 0.7687790318026997,\n",
       " 0.7274170420245583,\n",
       " 0.5546448830277014,\n",
       " 0.4648801400320831]"
      ]
     },
     "execution_count": 133,
     "metadata": {},
     "output_type": "execute_result"
    }
   ],
   "source": [
    "fpc_val1"
   ]
  },
  {
   "cell_type": "code",
   "execution_count": 87,
   "metadata": {
    "collapsed": false
   },
   "outputs": [
    {
     "data": {
      "text/plain": [
       "array([ 449,  450,  451, ..., 1997, 1998, 1999], dtype=int64)"
      ]
     },
     "execution_count": 87,
     "metadata": {},
     "output_type": "execute_result"
    }
   ],
   "source": [
    "cntr, u, u_0, d, jm, p, fpc = fuzz.cmeans(my_data, 14, m_val, error = 0.0001, maxiter = 10000)"
   ]
  },
  {
   "cell_type": "code",
   "execution_count": 94,
   "metadata": {
    "collapsed": false
   },
   "outputs": [
    {
     "data": {
      "text/plain": [
       "0.00510204081639015"
      ]
     },
     "execution_count": 94,
     "metadata": {},
     "output_type": "execute_result"
    }
   ],
   "source": [
    "fpcs[10]"
   ]
  },
  {
   "cell_type": "code",
   "execution_count": 89,
   "metadata": {
    "collapsed": false
   },
   "outputs": [
    {
     "data": {
      "text/plain": [
       "[0.005154639180907797,\n",
       " 0.005181347150326402,\n",
       " 0.005181347156120141,\n",
       " 0.00520833333339942,\n",
       " 0.005208333338713365]"
      ]
     },
     "execution_count": 89,
     "metadata": {},
     "output_type": "execute_result"
    }
   ],
   "source": [
    "fpcs[15:20]"
   ]
  },
  {
   "cell_type": "code",
   "execution_count": 90,
   "metadata": {
    "collapsed": true
   },
   "outputs": [],
   "source": [
    "val_range = fpcs[14*10 : 45 * 10]"
   ]
  },
  {
   "cell_type": "code",
   "execution_count": 93,
   "metadata": {
    "collapsed": false
   },
   "outputs": [
    {
     "data": {
      "text/plain": [
       "0.02616468389333728"
      ]
     },
     "execution_count": 93,
     "metadata": {},
     "output_type": "execute_result"
    }
   ],
   "source": [
    "fpcs[450]"
   ]
  },
  {
   "cell_type": "code",
   "execution_count": 91,
   "metadata": {
    "collapsed": false
   },
   "outputs": [
    {
     "data": {
      "text/plain": [
       "0.025951751675603204"
      ]
     },
     "execution_count": 91,
     "metadata": {},
     "output_type": "execute_result"
    }
   ],
   "source": [
    "max(val_range)"
   ]
  },
  {
   "cell_type": "code",
   "execution_count": 31,
   "metadata": {
    "collapsed": false
   },
   "outputs": [
    {
     "data": {
      "image/png": "[encoded data removed]",
      "text/plain": [
       "<Figure size 432x288 with 1 Axes>"
      ]
     },
     "metadata": {
      "needs_background": "light"
     },
     "output_type": "display_data"
    }
   ],
   "source": [
    "fig, ax = plt.subplots()\n",
    "ax.plot(np.r_[0:10], fpcs[:10])\n",
    "ax.set_xlabel(\"Number of centers\")\n",
    "ax.set_ylabel(\"Fuzzy partition coefficient\")\n",
    "plt.show()"
   ]
  },
  {
   "cell_type": "code",
   "execution_count": 19,
   "metadata": {
    "collapsed": false
   },
   "outputs": [
    {
     "data": {
      "text/plain": [
       "[0.9211906973143509,\n",
       " 0.837092943418234,\n",
       " 0.7659506554784508,\n",
       " 0.762634797088944,\n",
       " 0.7232375701681333,\n",
       " 0.6426951475802409,\n",
       " 0.6071297442566553,\n",
       " 0.5599912173984004,\n",
       " 0.515231422863046,\n",
       " 0.5200382985148255,\n",
       " 0.5067155505090762,\n",
       " 0.49018100092151845,\n",
       " 0.49035086947460577,\n",
       " 0.4656400298941668,\n",
       " 0.46405671846625024,\n",
       " 0.4605169409877603,\n",
       " 0.47248795439954466,\n",
       " 0.45248493258064293,\n",
       " 0.45216231678239893,\n",
       " 0.45942456268511966,\n",
       " 0.4567134463115771,\n",
       " 0.46722189566758465,\n",
       " 0.45596169644044865,\n",
       " 0.4329138320400104,\n",
       " 0.4260186353307473,\n",
       " 0.4374903438659167,\n",
       " 0.4278075582817939,\n",
       " 0.4307209827263889,\n",
       " 0.43871813779338026,\n",
       " 0.41613883982584077,\n",
       " 0.4193894458627905,\n",
       " 0.3953491488556837,\n",
       " 0.3894832005664475,\n",
       " 0.4205266721481137,\n",
       " 0.4243868168401308,\n",
       " 0.4129191638692984,\n",
       " 0.39543035597295517,\n",
       " 0.4380673054346207,\n",
       " 0.41705273249409297,\n",
       " 0.42226196706687813,\n",
       " 0.4093009616464034,\n",
       " 0.46808883766410364,\n",
       " 0.4688475989583042,\n",
       " 0.4259110931081272,\n",
       " 0.43855385941710806,\n",
       " 0.4280459562091617,\n",
       " 0.43767790065540196,\n",
       " 0.4768053259368541,\n",
       " 0.4187498822565399,\n",
       " 0.47764769596248097,\n",
       " 0.4297510810344344,\n",
       " 0.47251540749276527,\n",
       " 0.5059068562165895,\n",
       " 0.502977616512132,\n",
       " 0.46686404511817087,\n",
       " 0.505280900535927,\n",
       " 0.4913269170683188,\n",
       " 0.516177452526669,\n",
       " 0.49275455383255634,\n",
       " 0.5076013138605919,\n",
       " 0.5001899032256142,\n",
       " 0.5161042653568204,\n",
       " 0.48717125767575903,\n",
       " 0.5265472957911378,\n",
       " 0.4597628699100408,\n",
       " 0.5232712338113059,\n",
       " 0.5172775585633193,\n",
       " 0.51990013559473,\n",
       " 0.49444801431415575,\n",
       " 0.46909640075808756,\n",
       " 0.4993846608419384,\n",
       " 0.5106049102778151,\n",
       " 0.5109429509143882,\n",
       " 0.5133577510045377,\n",
       " 0.5339101562362026,\n",
       " 0.5256491769579592,\n",
       " 0.539129442244329,\n",
       " 0.49993200040931834,\n",
       " 0.5009447949396019,\n",
       " 0.5066718067212129,\n",
       " 0.4831219875127358,\n",
       " 0.5232148130126036,\n",
       " 0.5573906802105532,\n",
       " 0.530994621866755,\n",
       " 0.5317821810390126,\n",
       " 0.5275612409521927,\n",
       " 0.5407463058757782,\n",
       " 0.5727547234722054,\n",
       " 0.5182481052959615,\n",
       " 0.5409370092011462,\n",
       " 0.525593702173477,\n",
       " 0.5648805732889839,\n",
       " 0.5167114512659927,\n",
       " 0.5631923003442979,\n",
       " 0.5254460164626258,\n",
       " 0.5786091003348901,\n",
       " 0.5452387500005449,\n",
       " 0.5203109683976184,\n",
       " 0.5638336115108392,\n",
       " 0.5743207822350787,\n",
       " 0.5716614585200888,\n",
       " 0.5530344160008566,\n",
       " 0.5647699516079139,\n",
       " 0.5830068200240444,\n",
       " 0.5579304088487467,\n",
       " 0.595136116935225,\n",
       " 0.5986549242628876,\n",
       " 0.5716695982437859,\n",
       " 0.5996841798355769,\n",
       " 0.5681668442966114,\n",
       " 0.5860754320330976,\n",
       " 0.6283924772756961,\n",
       " 0.5922526152312441,\n",
       " 0.5827666206699227,\n",
       " 0.5775371178100185,\n",
       " 0.5831462283353012,\n",
       " 0.5818718484114803,\n",
       " 0.6081022617177253,\n",
       " 0.6362605043082726,\n",
       " 0.5933150438494699,\n",
       " 0.6058926981334775,\n",
       " 0.6349323412686033,\n",
       " 0.6167421104243574,\n",
       " 0.5864864135952004,\n",
       " 0.5963821419539836,\n",
       " 0.6056736760036848,\n",
       " 0.6017094087489917,\n",
       " 0.6322162711752616,\n",
       " 0.6138143088163523,\n",
       " 0.6049862299534828,\n",
       " 0.6434820190243772,\n",
       " 0.5843214156584048,\n",
       " 0.5944318620638906,\n",
       " 0.6028072947785996,\n",
       " 0.5995842603809578,\n",
       " 0.6349796851750764,\n",
       " 0.6374162553154129,\n",
       " 0.6536269158358778,\n",
       " 0.6561066031137174,\n",
       " 0.6606988233065545,\n",
       " 0.6333492452017371,\n",
       " 0.6260096580724028,\n",
       " 0.6435923261281694,\n",
       " 0.6240780088020398,\n",
       " 0.6364168914712461,\n",
       " 0.6525101723395482,\n",
       " 0.6312733137735379,\n",
       " 0.6199334777212452,\n",
       " 0.6493208084052484,\n",
       " 0.664628090244254,\n",
       " 0.6332075899324126,\n",
       " 0.6531284446282577,\n",
       " 0.660059207461689,\n",
       " 0.66944625067885,\n",
       " 0.6581059215020025,\n",
       " 0.6571918377391897,\n",
       " 0.6708011277326035,\n",
       " 0.6396516091408885,\n",
       " 0.6880161940497344,\n",
       " 0.6795707727306204,\n",
       " 0.6353035454796058,\n",
       " 0.7422850242525605,\n",
       " 0.6938591916904518,\n",
       " 0.675759225870542,\n",
       " 0.6924978655975672,\n",
       " 0.7364741995126081,\n",
       " 0.7107725887975206,\n",
       " 0.6822659577630298,\n",
       " 0.6618202785228512,\n",
       " 0.6807715333264146,\n",
       " 0.644890053618818,\n",
       " 0.745834989853232,\n",
       " 0.7246624825042924,\n",
       " 0.6807244536952958,\n",
       " 0.6952972049198825,\n",
       " 0.7438460828525444,\n",
       " 0.7339818976546595,\n",
       " 0.7056247908086953,\n",
       " 0.7742417574160136,\n",
       " 0.7379769067553992,\n",
       " 0.7038233174579572,\n",
       " 0.7155027908067563,\n",
       " 0.7525002450152061,\n",
       " 0.732016281339904,\n",
       " 0.7319791788327819,\n",
       " 0.7716270452965343,\n",
       " 0.7504689610486094,\n",
       " 0.7302340481794855,\n",
       " 0.7268117147148024,\n",
       " 0.76421110039791,\n",
       " 0.7423028820664658,\n",
       " 0.7312854003438314,\n",
       " 0.7084208721905846,\n",
       " 0.7394403598823021,\n",
       " 0.7379092046058253,\n",
       " 0.7681303625699788,\n",
       " 0.7334346476030893,\n",
       " 0.7133952970009503,\n",
       " 0.7455764962799629,\n",
       " 0.7477042510065557]"
      ]
     },
     "execution_count": 19,
     "metadata": {},
     "output_type": "execute_result"
    }
   ],
   "source": [
    "fpcs"
   ]
  },
  {
   "cell_type": "code",
   "execution_count": null,
   "metadata": {
    "collapsed": true
   },
   "outputs": [],
   "source": []
  }
 ],
 "metadata": {
  "anaconda-cloud": {},
  "kernelspec": {
   "display_name": "Python [conda env:py36]",
   "language": "python",
   "name": "conda-env-py36-py"
  },
  "language_info": {
   "codemirror_mode": {
    "name": "ipython",
    "version": 3
   },
   "file_extension": ".py",
   "mimetype": "text/x-python",
   "name": "python",
   "nbconvert_exporter": "python",
   "pygments_lexer": "ipython3",
   "version": "3.6.7"
  }
 },
 "nbformat": 4,
 "nbformat_minor": 1
}
