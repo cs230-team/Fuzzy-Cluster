{
 "cells": [
  {
   "cell_type": "code",
   "execution_count": 174,
   "metadata": {
    "collapsed": true
   },
   "outputs": [],
   "source": [
    "import skfuzzy as fuzz\n",
    "import numpy as np\n",
    "import matplotlib.pyplot as plt\n",
    "import json\n",
    "import pandas as pd"
   ]
  },
  {
   "cell_type": "code",
   "execution_count": 2,
   "metadata": {
    "collapsed": false
   },
   "outputs": [
    {
     "data": {
      "text/plain": [
       "(48, 264)"
      ]
     },
     "execution_count": 2,
     "metadata": {},
     "output_type": "execute_result"
    }
   ],
   "source": [
    "my_data = np.genfromtxt('dataset/mat_csv.csv', delimiter=',')\n",
    "my_data.shape"
   ]
  },
  {
   "cell_type": "code",
   "execution_count": 106,
   "metadata": {
    "collapsed": false
   },
   "outputs": [
    {
     "data": {
      "text/plain": [
       "array([1. , 1.1, 1.2, 1.3, 1.4, 1.5, 1.6, 1.7, 1.8, 1.9, 2. , 2.1, 2.2,\n",
       "       2.3, 2.4, 2.5, 2.6])"
      ]
     },
     "execution_count": 106,
     "metadata": {},
     "output_type": "execute_result"
    }
   ],
   "source": [
    "np.linspace(1, 2.6, 17)"
   ]
  },
  {
   "cell_type": "code",
   "execution_count": 107,
   "metadata": {
    "collapsed": false
   },
   "outputs": [
    {
     "name": "stdout",
     "output_type": "stream",
     "text": [
      "12\n",
      "15\n",
      "18\n",
      "21\n",
      "24\n",
      "27\n",
      "30\n",
      "33\n",
      "36\n",
      "39\n",
      "42\n",
      "45\n",
      "48\n"
     ]
    }
   ],
   "source": [
    "clusters_num = [i for i in range(10, 50)]\n",
    "fpcs_vals = {}\n",
    "m_vals = np.linspace(1, 2.6, 17)\n",
    "for cluster in clusters_num:\n",
    "    fpcs_val = []\n",
    "    for m_val in m_vals:\n",
    "        cntr, u, u_0, d, jm, p, fpc = fuzz.cmeans(my_data, cluster, m_val, error = 0.0001, maxiter = 10000)\n",
    "        #fpcs.append(fpc)\n",
    "        fpcs_val.append(fpc)\n",
    "    fpcs_vals[cluster] = fpcs_val\n",
    "    if(cluster % 3 == 0):\n",
    "        print(cluster)"
   ]
  },
  {
   "cell_type": "code",
   "execution_count": 125,
   "metadata": {
    "collapsed": false
   },
   "outputs": [
    {
     "data": {
      "text/plain": [
       "[1.0,\n",
       " 0.9764180036508494,\n",
       " 0.8777696375512017,\n",
       " 0.8019794133575253,\n",
       " 0.7001293593010971,\n",
       " 0.5338894866362405,\n",
       " 0.4927716041058199,\n",
       " 0.4055824015164029,\n",
       " 0.3528000576196446,\n",
       " 0.3137709446599264,\n",
       " 0.2743894082820673,\n",
       " 0.2582300015885808,\n",
       " 0.23773676085047118,\n",
       " 0.22068431007121014,\n",
       " 0.2125280494764404,\n",
       " 0.2041324804062378,\n",
       " 0.20030211814949794]"
      ]
     },
     "execution_count": 125,
     "metadata": {},
     "output_type": "execute_result"
    }
   ],
   "source": [
    "fpcs_vals[14]"
   ]
  },
  {
   "cell_type": "code",
   "execution_count": 127,
   "metadata": {
    "collapsed": false
   },
   "outputs": [
    {
     "data": {
      "text/plain": [
       "array([0.5, 0.6, 0.7, 0.8, 0.9, 1. , 1.1, 1.2, 1.3, 1.4, 1.5, 1.6])"
      ]
     },
     "execution_count": 127,
     "metadata": {},
     "output_type": "execute_result"
    }
   ],
   "source": [
    "np.linspace(0.5, 1.6, 12)"
   ]
  },
  {
   "cell_type": "code",
   "execution_count": 130,
   "metadata": {
    "collapsed": false
   },
   "outputs": [],
   "source": [
    "m_vals = np.linspace(0.5, 1.6, 12)\n",
    "fpc_val1 = []\n",
    "for m_val in m_vals:\n",
    "    cntr, u, u_0, d, jm, p, fpc = fuzz.cmeans(my_data, 15, m_val, error = 0.0001, maxiter = 10000)\n",
    "    #fpcs.append(fpc)\n",
    "    fpc_val1.append(fpc)"
   ]
  },
  {
   "cell_type": "code",
   "execution_count": 131,
   "metadata": {
    "collapsed": false
   },
   "outputs": [
    {
     "data": {
      "text/plain": [
       "[0.0941825632594516,\n",
       " 0.11483446292928791,\n",
       " 0.1357391441508072,\n",
       " 0.16002462087395383,\n",
       " 0.22219400641746298,\n",
       " 0.96875,\n",
       " 0.9587923143277294,\n",
       " 0.9173384639086127,\n",
       " 0.782660292191768,\n",
       " 0.7068804498292915,\n",
       " 0.5741244066536922,\n",
       " 0.4647551879290406]"
      ]
     },
     "execution_count": 131,
     "metadata": {},
     "output_type": "execute_result"
    }
   ],
   "source": [
    "fpc_val1"
   ]
  },
  {
   "cell_type": "code",
   "execution_count": 132,
   "metadata": {
    "collapsed": false
   },
   "outputs": [],
   "source": [
    "m_vals = np.linspace(0.5, 1.6, 12)\n",
    "fpc_val1 = []\n",
    "for m_val in m_vals:\n",
    "    cntr, u, u_0, d, jm, p, fpc = fuzz.cmeans(my_data, 14, m_val, error = 0.0001, maxiter = 10000)\n",
    "    #fpcs.append(fpc)\n",
    "    fpc_val1.append(fpc)"
   ]
  },
  {
   "cell_type": "code",
   "execution_count": 133,
   "metadata": {
    "collapsed": false
   },
   "outputs": [
    {
     "data": {
      "text/plain": [
       "[0.11128252188634746,\n",
       " 0.12869200273244782,\n",
       " 0.1373299948725613,\n",
       " 0.1407535870795508,\n",
       " 0.22891772932288978,\n",
       " 0.9873737373737375,\n",
       " 0.9575856367986249,\n",
       " 0.8692811587051104,\n",
       " 0.7687790318026997,\n",
       " 0.7274170420245583,\n",
       " 0.5546448830277014,\n",
       " 0.4648801400320831]"
      ]
     },
     "execution_count": 133,
     "metadata": {},
     "output_type": "execute_result"
    }
   ],
   "source": [
    "fpc_val1"
   ]
  },
  {
   "cell_type": "code",
   "execution_count": 631,
   "metadata": {
    "collapsed": true
   },
   "outputs": [],
   "source": [
    "cnum = 17"
   ]
  },
  {
   "cell_type": "code",
   "execution_count": 632,
   "metadata": {
    "collapsed": false
   },
   "outputs": [],
   "source": [
    "cntr, u, u_0, d, jm, p, fpc = fuzz.cmeans(my_data, cnum, 1.1, error = 0.0001, maxiter = 10000)"
   ]
  },
  {
   "cell_type": "code",
   "execution_count": 633,
   "metadata": {
    "collapsed": false
   },
   "outputs": [],
   "source": [
    "#take top 3 clusters that each prog belongs to"
   ]
  },
  {
   "cell_type": "code",
   "execution_count": 634,
   "metadata": {
    "collapsed": false
   },
   "outputs": [],
   "source": [
    "clust_dict = {}\n",
    "for i in range(264):\n",
    "    #top_3 = u[np.argsort(u[:, i])[-5:], i]\n",
    "    #top_3_arg = np.argsort(u[:, i])[-5:]\n",
    "    sorted_mem = u[np.argsort(u[:, i])[::-1]][:, i]\n",
    "    sorted_arg = np.argsort(u[:, i])[::-1]\n",
    "    #print(top_3)\n",
    "    for j in range(cnum):\n",
    "        #print(top_3[j])\n",
    "        if sorted_mem[j] > 0.7:\n",
    "            #print(top_3_arg[j])\n",
    "            if sorted_arg[j] in clust_dict:\n",
    "                    clust_dict[sorted_arg[j]].append(i)\n",
    "            else:\n",
    "                clust_dict[sorted_arg[j]] = [i]"
   ]
  },
  {
   "cell_type": "code",
   "execution_count": 635,
   "metadata": {
    "collapsed": false
   },
   "outputs": [
    {
     "data": {
      "text/plain": [
       "0.058823529411764705"
      ]
     },
     "execution_count": 635,
     "metadata": {},
     "output_type": "execute_result"
    }
   ],
   "source": [
    "1/cnum"
   ]
  },
  {
   "cell_type": "code",
   "execution_count": 636,
   "metadata": {
    "collapsed": true
   },
   "outputs": [],
   "source": [
    "############## Analysis ####################"
   ]
  },
  {
   "cell_type": "code",
   "execution_count": 637,
   "metadata": {
    "collapsed": true
   },
   "outputs": [],
   "source": [
    "i = 0\n",
    "text_file = open(\"dataset/filenames_1.txt\", \"r\")\n",
    "lines = [line.rstrip('\\n') for line in text_file.readlines()]\n",
    "text_file.close()"
   ]
  },
  {
   "cell_type": "code",
   "execution_count": 638,
   "metadata": {
    "collapsed": true
   },
   "outputs": [],
   "source": [
    "pattern_data = json.load(open('dataset/pattern.json', encoding=\"utf8\"))    "
   ]
  },
  {
   "cell_type": "code",
   "execution_count": 639,
   "metadata": {
    "collapsed": true
   },
   "outputs": [],
   "source": [
    "for i in range(len(lines)):\n",
    "    lines[i] = lines[i].replace(\"#\", \"/\")"
   ]
  },
  {
   "cell_type": "code",
   "execution_count": 640,
   "metadata": {
    "collapsed": false
   },
   "outputs": [],
   "source": [
    "pattern_dict = {}"
   ]
  },
  {
   "cell_type": "code",
   "execution_count": 641,
   "metadata": {
    "collapsed": false
   },
   "outputs": [],
   "source": [
    "i = 0\n",
    "for i in range(264):\n",
    "    flag = 0\n",
    "    for j in range(len(pattern_data)):\n",
    "        for k in range(len(pattern_data[j]['changedFiles'])):\n",
    "            for key in pattern_data[j]['changedFiles'].keys():\n",
    "                file_name = key.lstrip()\n",
    "                file_name = file_name.rstrip()\n",
    "                if file_name in lines[i]:\n",
    "                    flag = 1\n",
    "                    pattern_dict[i] = pattern_data[j]['repairPatterns']\n",
    "                    #pattern_files.append(file_name)\n",
    "    if flag == 0:\n",
    "        print(lines[i])"
   ]
  },
  {
   "cell_type": "code",
   "execution_count": 642,
   "metadata": {
    "collapsed": true
   },
   "outputs": [],
   "source": [
    "classification_types = set()\n",
    "for bug, patterns in pattern_dict.items():\n",
    "    for pattern in patterns:\n",
    "        if pattern not in classification_types:\n",
    "            classification_types.add(pattern)"
   ]
  },
  {
   "cell_type": "code",
   "execution_count": 643,
   "metadata": {
    "collapsed": false
   },
   "outputs": [
    {
     "data": {
      "text/plain": [
       "29"
      ]
     },
     "execution_count": 643,
     "metadata": {},
     "output_type": "execute_result"
    }
   ],
   "source": [
    "len(classification_types)"
   ]
  },
  {
   "cell_type": "code",
   "execution_count": 644,
   "metadata": {
    "collapsed": true
   },
   "outputs": [],
   "source": [
    "categories = ['ChangeDistiller']\n",
    "category_dict = {}"
   ]
  },
  {
   "cell_type": "code",
   "execution_count": 645,
   "metadata": {
    "collapsed": false
   },
   "outputs": [],
   "source": [
    "for cluster_num, bugs in clust_dict.items():\n",
    "    for bug in bugs:\n",
    "        if cluster_num in category_dict:\n",
    "            patterns_before = category_dict[cluster_num]['pattern_count']\n",
    "            for pattern in pattern_dict[bug]:\n",
    "                if pattern in classification_types:\n",
    "                    category_dict[cluster_num]['pattern_count'] += 1\n",
    "                    if pattern in category_dict[cluster_num]:\n",
    "                        category_dict[cluster_num][pattern] += 1\n",
    "                    else:\n",
    "                        category_dict[cluster_num][pattern] = 1\n",
    "            if category_dict[cluster_num]['pattern_count'] != patterns_before:\n",
    "                category_dict[cluster_num]['bug_count'] += 1\n",
    "        else:\n",
    "            category_dict[cluster_num] = {}\n",
    "            category_dict[cluster_num]['pattern_count'] = 0\n",
    "            patterns_before = category_dict[cluster_num]['pattern_count']\n",
    "            for pattern in pattern_dict[bug]:\n",
    "                if pattern in classification_types:\n",
    "                    category_dict[cluster_num]['pattern_count'] += 1\n",
    "                    category_dict[cluster_num][pattern] = 1\n",
    "            if category_dict[cluster_num]['pattern_count'] != patterns_before:\n",
    "                category_dict[cluster_num]['bug_count'] = 1"
   ]
  },
  {
   "cell_type": "code",
   "execution_count": 646,
   "metadata": {
    "collapsed": false
   },
   "outputs": [],
   "source": [
    "cluster_patterns = {}\n",
    "for cluster_num in category_dict:\n",
    "    if category_dict[cluster_num]['bug_count'] > 1:\n",
    "        for pattern in category_dict[cluster_num]:\n",
    "            if pattern != 'pattern_count' and pattern != 'bug_count':\n",
    "                tmp = category_dict[cluster_num][pattern] / category_dict[cluster_num]['bug_count']\n",
    "                #print(tmp)\n",
    "                if tmp >= 0.5:\n",
    "                    if pattern in cluster_patterns:\n",
    "                        if tmp > cluster_patterns[pattern][1]:\n",
    "                            cluster_patterns[pattern] = (cluster_num,tmp)\n",
    "                    else:\n",
    "                        cluster_patterns[pattern] = (cluster_num,tmp)"
   ]
  },
  {
   "cell_type": "code",
   "execution_count": 647,
   "metadata": {
    "collapsed": false
   },
   "outputs": [
    {
     "data": {
      "text/plain": [
       "{'singleLine': (0, 0.5595238095238095),\n",
       " 'condBlockOthersAdd': (13, 0.5),\n",
       " 'condBlockRetAdd': (3, 1.0),\n",
       " 'wrongComp': (4, 0.5555555555555556),\n",
       " 'missComp': (7, 0.5),\n",
       " 'condBlockExcAdd': (3, 0.5),\n",
       " 'wrapsIfElse': (3, 0.5),\n",
       " 'wrapsIf': (3, 0.5),\n",
       " 'blockRemove': (9, 0.5),\n",
       " 'condBlockRem': (9, 0.5),\n",
       " 'expArithMod': (9, 0.5),\n",
       " 'wrongVarRef': (9, 0.5),\n",
       " 'expLogicMod': (9, 0.5),\n",
       " 'initFix': (9, 0.5)}"
      ]
     },
     "execution_count": 647,
     "metadata": {},
     "output_type": "execute_result"
    }
   ],
   "source": [
    "cluster_patterns"
   ]
  },
  {
   "cell_type": "code",
   "execution_count": 648,
   "metadata": {
    "collapsed": false
   },
   "outputs": [
    {
     "name": "stdout",
     "output_type": "stream",
     "text": [
      "\n",
      "\tCluster Number 0 Pattern singleLine Confidence 0.5595238095238095\n",
      "\n",
      "\tCluster Number 13 Pattern condBlockOthersAdd Confidence 0.5\n",
      "\n",
      "\tCluster Number 3 Pattern condBlockRetAdd Confidence 1.0\n",
      "\n",
      "\tCluster Number 4 Pattern wrongComp Confidence 0.5555555555555556\n",
      "\n",
      "\tCluster Number 7 Pattern missComp Confidence 0.5\n",
      "\n",
      "\tCluster Number 3 Pattern condBlockExcAdd Confidence 0.5\n",
      "\n",
      "\tCluster Number 3 Pattern wrapsIfElse Confidence 0.5\n",
      "\n",
      "\tCluster Number 3 Pattern wrapsIf Confidence 0.5\n",
      "\n",
      "\tCluster Number 9 Pattern blockRemove Confidence 0.5\n",
      "\n",
      "\tCluster Number 9 Pattern condBlockRem Confidence 0.5\n",
      "\n",
      "\tCluster Number 9 Pattern expArithMod Confidence 0.5\n",
      "\n",
      "\tCluster Number 9 Pattern wrongVarRef Confidence 0.5\n",
      "\n",
      "\tCluster Number 9 Pattern expLogicMod Confidence 0.5\n",
      "\n",
      "\tCluster Number 9 Pattern initFix Confidence 0.5\n"
     ]
    }
   ],
   "source": [
    "for pattern in cluster_patterns:\n",
    "    print('')\n",
    "    print('\\tCluster Number',cluster_patterns[pattern][0],'Pattern',pattern,'Confidence',cluster_patterns[pattern][1])"
   ]
  },
  {
   "cell_type": "code",
   "execution_count": 649,
   "metadata": {
    "collapsed": false
   },
   "outputs": [],
   "source": [
    "cluster_set = set()\n",
    "for pattern in cluster_patterns:\n",
    "    #print('')\n",
    "    #print('\\tCluster Number',cluster_patterns[pattern][0]\n",
    "    cluster_set.add(cluster_patterns[pattern][0])"
   ]
  },
  {
   "cell_type": "code",
   "execution_count": 650,
   "metadata": {
    "collapsed": false
   },
   "outputs": [
    {
     "data": {
      "text/plain": [
       "6"
      ]
     },
     "execution_count": 650,
     "metadata": {},
     "output_type": "execute_result"
    }
   ],
   "source": [
    "len(cluster_set)"
   ]
  },
  {
   "cell_type": "code",
   "execution_count": null,
   "metadata": {
    "collapsed": true
   },
   "outputs": [],
   "source": []
  },
  {
   "cell_type": "code",
   "execution_count": null,
   "metadata": {
    "collapsed": true
   },
   "outputs": [],
   "source": []
  }
 ],
 "metadata": {
  "anaconda-cloud": {},
  "kernelspec": {
   "display_name": "Python [conda env:py36]",
   "language": "python",
   "name": "conda-env-py36-py"
  },
  "language_info": {
   "codemirror_mode": {
    "name": "ipython",
    "version": 3
   },
   "file_extension": ".py",
   "mimetype": "text/x-python",
   "name": "python",
   "nbconvert_exporter": "python",
   "pygments_lexer": "ipython3",
   "version": "3.6.7"
  }
 },
 "nbformat": 4,
 "nbformat_minor": 1
}
