{
 "cells": [
  {
   "cell_type": "code",
   "execution_count": 1,
   "metadata": {
    "collapsed": true
   },
   "outputs": [],
   "source": [
    "import skfuzzy as fuzz\n",
    "import numpy as np\n",
    "import matplotlib.pyplot as plt"
   ]
  },
  {
   "cell_type": "code",
   "execution_count": 2,
   "metadata": {
    "collapsed": false
   },
   "outputs": [
    {
     "data": {
      "text/plain": [
       "(48, 264)"
      ]
     },
     "execution_count": 2,
     "metadata": {},
     "output_type": "execute_result"
    }
   ],
   "source": [
    "my_data = np.genfromtxt('dataset/mat_csv.csv', delimiter=',')\n",
    "my_data.shape"
   ]
  },
  {
   "cell_type": "code",
   "execution_count": 546,
   "metadata": {
    "collapsed": true
   },
   "outputs": [],
   "source": [
    "cntr, u, u_0, _, _, _, _ = fuzz.cmeans(my_data, 26, 2.00, error = 0.0001, maxiter = 100000)"
   ]
  },
  {
   "cell_type": "code",
   "execution_count": 547,
   "metadata": {
    "collapsed": false
   },
   "outputs": [],
   "source": [
    "labels = np.argmax(u, axis = 0)"
   ]
  },
  {
   "cell_type": "code",
   "execution_count": 548,
   "metadata": {
    "collapsed": false
   },
   "outputs": [
    {
     "data": {
      "text/plain": [
       "264"
      ]
     },
     "execution_count": 548,
     "metadata": {},
     "output_type": "execute_result"
    }
   ],
   "source": [
    "len(labels)"
   ]
  },
  {
   "cell_type": "code",
   "execution_count": 549,
   "metadata": {
    "collapsed": false
   },
   "outputs": [
    {
     "data": {
      "text/plain": [
       "26"
      ]
     },
     "execution_count": 549,
     "metadata": {},
     "output_type": "execute_result"
    }
   ],
   "source": [
    "len(np.argmax(u, axis = 1))"
   ]
  },
  {
   "cell_type": "code",
   "execution_count": 550,
   "metadata": {
    "collapsed": false
   },
   "outputs": [
    {
     "data": {
      "text/plain": [
       "(26,)"
      ]
     },
     "execution_count": 550,
     "metadata": {},
     "output_type": "execute_result"
    }
   ],
   "source": [
    "u.transpose()[0].shape"
   ]
  },
  {
   "cell_type": "code",
   "execution_count": 551,
   "metadata": {
    "collapsed": false
   },
   "outputs": [],
   "source": [
    "clus_3 = u.transpose()[0].argsort()[-3:][::-1]"
   ]
  },
  {
   "cell_type": "code",
   "execution_count": 552,
   "metadata": {
    "collapsed": false
   },
   "outputs": [
    {
     "data": {
      "text/plain": [
       "array([17, 18,  4], dtype=int64)"
      ]
     },
     "execution_count": 552,
     "metadata": {},
     "output_type": "execute_result"
    }
   ],
   "source": [
    "clus_3"
   ]
  },
  {
   "cell_type": "code",
   "execution_count": 553,
   "metadata": {
    "collapsed": false
   },
   "outputs": [],
   "source": [
    "i = 0\n",
    "text_file = open(\"dataset/filenames_1.txt\", \"r\")\n",
    "#lines = text_file.readlines()\n",
    "#print lines\n",
    "#print len(lines)\n",
    "#text_file.close()f = open('my_file', 'r+')\n",
    "lines = [line.rstrip('\\n') for line in text_file.readlines()]\n",
    "text_file.close()"
   ]
  },
  {
   "cell_type": "code",
   "execution_count": 554,
   "metadata": {
    "collapsed": false
   },
   "outputs": [
    {
     "data": {
      "text/plain": [
       "264"
      ]
     },
     "execution_count": 554,
     "metadata": {},
     "output_type": "execute_result"
    }
   ],
   "source": [
    "len(lines)"
   ]
  },
  {
   "cell_type": "code",
   "execution_count": 555,
   "metadata": {
    "collapsed": true
   },
   "outputs": [],
   "source": [
    "import json"
   ]
  },
  {
   "cell_type": "code",
   "execution_count": 556,
   "metadata": {
    "collapsed": false
   },
   "outputs": [],
   "source": [
    "pattern_data = json.load(open('dataset/pattern.json', encoding=\"utf8\"))    "
   ]
  },
  {
   "cell_type": "code",
   "execution_count": 557,
   "metadata": {
    "collapsed": false
   },
   "outputs": [
    {
     "data": {
      "text/plain": [
       "395"
      ]
     },
     "execution_count": 557,
     "metadata": {},
     "output_type": "execute_result"
    }
   ],
   "source": [
    "len(pattern_data)"
   ]
  },
  {
   "cell_type": "code",
   "execution_count": 558,
   "metadata": {
    "collapsed": false
   },
   "outputs": [],
   "source": [
    "for i in range(len(lines)):\n",
    "    lines[i] = lines[i].replace(\"#\", \"/\")"
   ]
  },
  {
   "cell_type": "code",
   "execution_count": 559,
   "metadata": {
    "collapsed": false
   },
   "outputs": [
    {
     "data": {
      "text/plain": [
       "'00b151_974027_src/com/google/javascript/jscomp/FunctionTypeBuilder.java'"
      ]
     },
     "execution_count": 559,
     "metadata": {},
     "output_type": "execute_result"
    }
   ],
   "source": [
    "lines[0]"
   ]
  },
  {
   "cell_type": "code",
   "execution_count": 560,
   "metadata": {
    "collapsed": false
   },
   "outputs": [
    {
     "data": {
      "text/plain": [
       "False"
      ]
     },
     "execution_count": 560,
     "metadata": {},
     "output_type": "execute_result"
    }
   ],
   "source": [
    "'src.com.google.javascript.jscomp.FunctionTypeBuilder.java' in lines[0]"
   ]
  },
  {
   "cell_type": "code",
   "execution_count": 561,
   "metadata": {
    "collapsed": true
   },
   "outputs": [],
   "source": [
    "pattern_dict = {}"
   ]
  },
  {
   "cell_type": "code",
   "execution_count": 562,
   "metadata": {
    "collapsed": true
   },
   "outputs": [],
   "source": [
    "pattern_files = []"
   ]
  },
  {
   "cell_type": "code",
   "execution_count": 563,
   "metadata": {
    "collapsed": false
   },
   "outputs": [
    {
     "data": {
      "text/plain": [
       "395"
      ]
     },
     "execution_count": 563,
     "metadata": {},
     "output_type": "execute_result"
    }
   ],
   "source": [
    "len(pattern_data)"
   ]
  },
  {
   "cell_type": "code",
   "execution_count": 564,
   "metadata": {
    "collapsed": false
   },
   "outputs": [
    {
     "data": {
      "text/plain": [
       "'org.jfree.chart.util.junit.ShapeListTests'"
      ]
     },
     "execution_count": 564,
     "metadata": {},
     "output_type": "execute_result"
    }
   ],
   "source": [
    "pattern_data[0]['failingTests'][0]['className'].lstrip()"
   ]
  },
  {
   "cell_type": "code",
   "execution_count": 565,
   "metadata": {
    "collapsed": false
   },
   "outputs": [],
   "source": [
    "i = 0\n",
    "for i in range(264):\n",
    "    flag = 0\n",
    "    for j in range(len(pattern_data)):\n",
    "        #print(len(pattern_data[j]['failingTests']))\n",
    "        \n",
    "        for k in range(len(pattern_data[j]['changedFiles'])):\n",
    "            for key in pattern_data[j]['changedFiles'].keys():\n",
    "                file_name = key.lstrip()\n",
    "                file_name = file_name.rstrip()\n",
    "                #print(file_name, lines[i])\n",
    "                if file_name in lines[i]:\n",
    "                    #print(\"*\")\n",
    "                    #print(pattern_data[j]['changedFiles'])\n",
    "                    #break\n",
    "                    flag = 1\n",
    "                    pattern_dict[i] = pattern_data[j]['repairPatterns']\n",
    "                    pattern_files.append(file_name)\n",
    "    if flag == 0:\n",
    "        print(lines[i])\n",
    "            "
   ]
  },
  {
   "cell_type": "code",
   "execution_count": 566,
   "metadata": {
    "collapsed": false
   },
   "outputs": [
    {
     "data": {
      "text/plain": [
       "746"
      ]
     },
     "execution_count": 566,
     "metadata": {},
     "output_type": "execute_result"
    }
   ],
   "source": [
    "len(pattern_files)"
   ]
  },
  {
   "cell_type": "code",
   "execution_count": 567,
   "metadata": {
    "collapsed": false
   },
   "outputs": [
    {
     "data": {
      "text/plain": [
       "['condBlockOthersAdd', 'missComp', 'missNullCheckN']"
      ]
     },
     "execution_count": 567,
     "metadata": {},
     "output_type": "execute_result"
    }
   ],
   "source": [
    "pattern_dict[0]"
   ]
  },
  {
   "cell_type": "code",
   "execution_count": 568,
   "metadata": {
    "collapsed": false
   },
   "outputs": [
    {
     "data": {
      "text/plain": [
       "17"
      ]
     },
     "execution_count": 568,
     "metadata": {},
     "output_type": "execute_result"
    }
   ],
   "source": [
    "clus_3[0]"
   ]
  },
  {
   "cell_type": "code",
   "execution_count": 569,
   "metadata": {
    "collapsed": false
   },
   "outputs": [
    {
     "data": {
      "text/plain": [
       "(3,)"
      ]
     },
     "execution_count": 569,
     "metadata": {},
     "output_type": "execute_result"
    }
   ],
   "source": [
    "clus_3.shape"
   ]
  },
  {
   "cell_type": "code",
   "execution_count": 570,
   "metadata": {
    "collapsed": false
   },
   "outputs": [
    {
     "data": {
      "text/plain": [
       "264"
      ]
     },
     "execution_count": 570,
     "metadata": {},
     "output_type": "execute_result"
    }
   ],
   "source": [
    "len(pattern_dict)"
   ]
  },
  {
   "cell_type": "code",
   "execution_count": 571,
   "metadata": {
    "collapsed": true
   },
   "outputs": [],
   "source": [
    "############## Draw correspondence between cluster and repair pattern #############"
   ]
  },
  {
   "cell_type": "code",
   "execution_count": 572,
   "metadata": {
    "collapsed": true
   },
   "outputs": [],
   "source": [
    "pattern_map = {}"
   ]
  },
  {
   "cell_type": "code",
   "execution_count": 573,
   "metadata": {
    "collapsed": true
   },
   "outputs": [],
   "source": [
    "cluster_cnt = [0] * 26"
   ]
  },
  {
   "cell_type": "code",
   "execution_count": 574,
   "metadata": {
    "collapsed": false
   },
   "outputs": [
    {
     "data": {
      "text/plain": [
       "[0, 0, 0, 0, 0, 0, 0, 0, 0, 0, 0, 0, 0, 0, 0, 0, 0, 0, 0, 0, 0, 0, 0, 0, 0, 0]"
      ]
     },
     "execution_count": 574,
     "metadata": {},
     "output_type": "execute_result"
    }
   ],
   "source": [
    "cluster_cnt"
   ]
  },
  {
   "cell_type": "code",
   "execution_count": 575,
   "metadata": {
    "collapsed": false
   },
   "outputs": [
    {
     "data": {
      "text/plain": [
       "array([17, 18,  4], dtype=int64)"
      ]
     },
     "execution_count": 575,
     "metadata": {},
     "output_type": "execute_result"
    }
   ],
   "source": [
    "u.transpose()[0].argsort()[-3:][::-1]"
   ]
  },
  {
   "cell_type": "code",
   "execution_count": 613,
   "metadata": {
    "collapsed": false
   },
   "outputs": [
    {
     "data": {
      "image/png": "[encoded data removed]",
      "text/plain": [
       "<Figure size 432x288 with 1 Axes>"
      ]
     },
     "metadata": {
      "needs_background": "light"
     },
     "output_type": "display_data"
    }
   ],
   "source": [
    "plt.plot(range(26), u.transpose()[0])\n",
    "plt.show()"
   ]
  },
  {
   "cell_type": "code",
   "execution_count": 614,
   "metadata": {
    "collapsed": false
   },
   "outputs": [
    {
     "data": {
      "text/plain": [
       "{'condBlockOthersAdd': 43,\n",
       " 'missComp': 54,\n",
       " 'missNullCheckN': 14,\n",
       " 'condBlockRetAdd': 52,\n",
       " 'expArithMod': 27,\n",
       " 'singleLine': 81,\n",
       " 'expLogicExpand': 56,\n",
       " 'expLogicMod': 33,\n",
       " 'wrongComp': 38,\n",
       " 'copyPaste': 17,\n",
       " 'initFix': 27,\n",
       " 'blockRemove': 10,\n",
       " 'condBlockRem': 7,\n",
       " 'wrongMethodRef': 13,\n",
       " 'missNullCheckP': 17,\n",
       " 'wrapsMethod': 6,\n",
       " 'wrapsIfElse': 35,\n",
       " 'condBlockExcAdd': 26,\n",
       " 'wrapsIf': 11,\n",
       " 'notClassified': 16,\n",
       " 'codeMove': 2,\n",
       " 'expLogicReduce': 4,\n",
       " 'wrapsLoop': 2,\n",
       " 'fixAPI': 2,\n",
       " 'constChange': 3,\n",
       " 'unwrapIfElse': 3,\n",
       " 'wrongVarRef': 17,\n",
       " 'unwrapMethod': 9,\n",
       " 'wrapsTryCatch': 3}"
      ]
     },
     "execution_count": 614,
     "metadata": {},
     "output_type": "execute_result"
    }
   ],
   "source": [
    "actual_class_cnt"
   ]
  },
  {
   "cell_type": "code",
   "execution_count": 576,
   "metadata": {
    "collapsed": false
   },
   "outputs": [],
   "source": [
    "for i in range(264):\n",
    "    #print(u.transpose()[i].argsort()[-len(pattern_dict[i]):][::-1])\n",
    "    cnum = u.transpose()[i].argsort()[-len(pattern_dict[i]):][::-1]\n",
    "    pattern_map[i] = cnum\n",
    "    for j in cnum:\n",
    "        cluster_cnt[j] += 1"
   ]
  },
  {
   "cell_type": "code",
   "execution_count": 577,
   "metadata": {
    "collapsed": false
   },
   "outputs": [],
   "source": [
    "############### Actual pattern counts #####################"
   ]
  },
  {
   "cell_type": "code",
   "execution_count": 578,
   "metadata": {
    "collapsed": false
   },
   "outputs": [],
   "source": [
    "actual_class_cnt = {}"
   ]
  },
  {
   "cell_type": "code",
   "execution_count": 579,
   "metadata": {
    "collapsed": false
   },
   "outputs": [],
   "source": [
    "for i in range(264):\n",
    "    for j in pattern_dict[i]:\n",
    "        if j in actual_class_cnt:\n",
    "            actual_class_cnt[j] += 1\n",
    "        else:\n",
    "            actual_class_cnt[j] = 1"
   ]
  },
  {
   "cell_type": "code",
   "execution_count": 580,
   "metadata": {
    "collapsed": false
   },
   "outputs": [
    {
     "name": "stdout",
     "output_type": "stream",
     "text": [
      "193\n"
     ]
    }
   ],
   "source": [
    "print(find_diff(cluster_cnt, actual_class_cnt))"
   ]
  },
  {
   "cell_type": "code",
   "execution_count": 510,
   "metadata": {
    "collapsed": false
   },
   "outputs": [],
   "source": [
    "def find_diff(cluster_cnt, actual_cnt):\n",
    "    x = sorted(actual_cnt.values())\n",
    "    y = sorted(cluster_cnt)\n",
    "    diff = 0\n",
    "    for i in range(26):\n",
    "        diff += abs(y[i] - x[i])\n",
    "    return diff"
   ]
  },
  {
   "cell_type": "code",
   "execution_count": 582,
   "metadata": {
    "collapsed": false
   },
   "outputs": [
    {
     "data": {
      "text/plain": [
       "628"
      ]
     },
     "execution_count": 582,
     "metadata": {},
     "output_type": "execute_result"
    }
   ],
   "source": [
    "sum(actual_class_cnt.values())"
   ]
  },
  {
   "cell_type": "code",
   "execution_count": 583,
   "metadata": {
    "collapsed": false
   },
   "outputs": [
    {
     "data": {
      "text/plain": [
       "0.3073248407643312"
      ]
     },
     "execution_count": 583,
     "metadata": {},
     "output_type": "execute_result"
    }
   ],
   "source": [
    "193/628"
   ]
  },
  {
   "cell_type": "code",
   "execution_count": 584,
   "metadata": {
    "collapsed": true
   },
   "outputs": [],
   "source": [
    "######################### Each class check the pattern#################"
   ]
  },
  {
   "cell_type": "code",
   "execution_count": 611,
   "metadata": {
    "collapsed": false
   },
   "outputs": [
    {
     "name": "stdout",
     "output_type": "stream",
     "text": [
      "['condBlockExcAdd', 'condBlockOthersAdd', 'expLogicExpand', 'expLogicMod', 'initFix', 'missNullCheckN', 'missNullCheckP', 'wrapsIfElse']\n",
      "['expLogicExpand', 'expLogicMod', 'wrapsIf']\n",
      "['expArithMod', 'missComp', 'singleLine']\n",
      "['condBlockOthersAdd', 'expLogicMod', 'initFix', 'missNullCheckN', 'missNullCheckP']\n",
      "['condBlockOthersAdd', 'copyPaste', 'missComp']\n",
      "['condBlockOthersAdd', 'missComp', 'missNullCheckP']\n",
      "['blockRemove', 'condBlockRem', 'wrapsIfElse', 'wrongComp']\n",
      "['condBlockExcAdd', 'condBlockRetAdd', 'wrapsTryCatch', 'wrongComp']\n",
      "['initFix', 'notClassified', 'wrongComp']\n"
     ]
    }
   ],
   "source": [
    "for i in range(264):\n",
    "    if 20 in pattern_map[i]:\n",
    "        #print(i)\n",
    "        print(pattern_dict[i])"
   ]
  },
  {
   "cell_type": "code",
   "execution_count": 590,
   "metadata": {
    "collapsed": false
   },
   "outputs": [
    {
     "data": {
      "text/plain": [
       "{0: ['condBlockOthersAdd', 'missComp', 'missNullCheckN'],\n",
       " 1: ['condBlockRetAdd'],\n",
       " 2: ['expArithMod', 'missComp', 'singleLine'],\n",
       " 3: ['expLogicExpand', 'singleLine'],\n",
       " 4: ['expLogicMod', 'wrongComp'],\n",
       " 5: ['condBlockRetAdd', 'expLogicExpand'],\n",
       " 6: ['condBlockRetAdd', 'expLogicExpand'],\n",
       " 7: ['expLogicExpand'],\n",
       " 8: ['expLogicExpand', 'singleLine'],\n",
       " 9: ['condBlockOthersAdd', 'copyPaste', 'expLogicMod', 'initFix'],\n",
       " 10: ['blockRemove', 'condBlockOthersAdd', 'condBlockRem', 'missComp'],\n",
       " 11: ['condBlockOthersAdd', 'expLogicExpand', 'initFix', 'wrongMethodRef'],\n",
       " 12: ['condBlockRetAdd', 'expLogicExpand', 'missComp', 'missNullCheckP'],\n",
       " 13: ['condBlockRetAdd', 'expLogicExpand', 'missComp', 'missNullCheckP'],\n",
       " 14: ['expArithMod', 'missComp', 'singleLine'],\n",
       " 15: ['wrapsMethod'],\n",
       " 16: ['condBlockOthersAdd', 'missComp'],\n",
       " 17: ['condBlockRetAdd', 'expLogicExpand'],\n",
       " 18: ['condBlockRetAdd', 'missComp'],\n",
       " 19: ['expLogicMod', 'singleLine'],\n",
       " 20: ['expLogicExpand', 'wrapsIfElse', 'wrongMethodRef'],\n",
       " 21: ['condBlockExcAdd',\n",
       "  'condBlockOthersAdd',\n",
       "  'expLogicExpand',\n",
       "  'expLogicMod',\n",
       "  'initFix',\n",
       "  'missNullCheckN',\n",
       "  'missNullCheckP',\n",
       "  'wrapsIfElse'],\n",
       " 22: ['missComp', 'singleLine'],\n",
       " 23: ['condBlockOthersAdd', 'condBlockRetAdd', 'missComp'],\n",
       " 24: ['condBlockOthersAdd', 'missComp'],\n",
       " 25: ['expLogicExpand', 'singleLine'],\n",
       " 26: ['expLogicMod', 'wrongComp'],\n",
       " 27: ['condBlockRetAdd', 'expLogicMod'],\n",
       " 28: ['expLogicExpand'],\n",
       " 29: ['blockRemove', 'condBlockRem', 'wrongComp'],\n",
       " 30: ['missComp', 'singleLine'],\n",
       " 31: ['condBlockRetAdd', 'expLogicExpand'],\n",
       " 32: ['condBlockRetAdd', 'expLogicMod'],\n",
       " 33: ['expLogicExpand', 'singleLine'],\n",
       " 34: ['wrapsIfElse'],\n",
       " 35: ['expLogicExpand', 'singleLine'],\n",
       " 36: ['singleLine', 'wrapsIf'],\n",
       " 37: ['expLogicExpand'],\n",
       " 38: ['expLogicExpand', 'singleLine'],\n",
       " 39: ['expLogicExpand', 'singleLine'],\n",
       " 40: ['missComp', 'singleLine'],\n",
       " 41: ['expLogicMod', 'singleLine'],\n",
       " 42: ['condBlockOthersAdd'],\n",
       " 43: ['wrapsIfElse'],\n",
       " 44: ['condBlockRetAdd'],\n",
       " 45: ['condBlockOthersAdd', 'expLogicExpand', 'initFix', 'wrongMethodRef'],\n",
       " 46: ['singleLine', 'wrapsIf'],\n",
       " 47: ['singleLine', 'wrapsIfElse'],\n",
       " 48: ['condBlockExcAdd',\n",
       "  'condBlockOthersAdd',\n",
       "  'expLogicExpand',\n",
       "  'expLogicMod',\n",
       "  'initFix',\n",
       "  'missNullCheckN',\n",
       "  'missNullCheckP',\n",
       "  'wrapsIfElse'],\n",
       " 49: ['condBlockRetAdd'],\n",
       " 50: ['missComp', 'notClassified'],\n",
       " 51: ['copyPaste', 'wrongComp', 'wrongMethodRef'],\n",
       " 52: ['condBlockRetAdd', 'expLogicExpand'],\n",
       " 53: ['missComp', 'singleLine'],\n",
       " 54: ['expLogicExpand', 'expLogicMod', 'wrapsIf'],\n",
       " 55: ['copyPaste', 'expLogicExpand'],\n",
       " 56: ['expLogicExpand', 'singleLine'],\n",
       " 57: ['codeMove'],\n",
       " 58: ['expLogicExpand', 'singleLine'],\n",
       " 59: ['expLogicExpand', 'singleLine'],\n",
       " 60: ['expLogicExpand', 'singleLine'],\n",
       " 61: ['condBlockRetAdd', 'expLogicMod'],\n",
       " 62: ['condBlockRetAdd',\n",
       "  'expLogicReduce',\n",
       "  'initFix',\n",
       "  'missNullCheckP',\n",
       "  'wrapsIfElse',\n",
       "  'wrongMethodRef'],\n",
       " 63: ['wrapsIfElse'],\n",
       " 64: ['expLogicExpand', 'singleLine'],\n",
       " 65: ['missComp', 'singleLine'],\n",
       " 66: ['wrapsIfElse'],\n",
       " 67: ['expLogicExpand', 'singleLine'],\n",
       " 68: ['expLogicExpand', 'singleLine'],\n",
       " 69: ['expLogicExpand', 'singleLine'],\n",
       " 70: ['expLogicMod', 'wrongComp'],\n",
       " 71: ['expLogicExpand', 'singleLine'],\n",
       " 72: ['condBlockExcAdd',\n",
       "  'condBlockOthersAdd',\n",
       "  'expLogicExpand',\n",
       "  'expLogicMod',\n",
       "  'initFix',\n",
       "  'missNullCheckN',\n",
       "  'missNullCheckP',\n",
       "  'wrapsIfElse'],\n",
       " 73: ['expLogicMod', 'singleLine'],\n",
       " 74: ['wrapsMethod'],\n",
       " 75: ['expArithMod', 'missComp', 'singleLine'],\n",
       " 76: ['condBlockOthersAdd', 'condBlockRetAdd', 'missComp'],\n",
       " 77: ['condBlockRetAdd', 'expLogicMod'],\n",
       " 78: ['expLogicExpand', 'singleLine'],\n",
       " 79: ['condBlockOthersAdd', 'expLogicExpand', 'missNullCheckN'],\n",
       " 80: ['condBlockRetAdd', 'expLogicExpand'],\n",
       " 81: ['condBlockRetAdd', 'missComp'],\n",
       " 82: ['expLogicExpand', 'singleLine'],\n",
       " 83: ['expLogicExpand', 'wrapsIfElse', 'wrongMethodRef'],\n",
       " 84: ['condBlockRetAdd',\n",
       "  'expLogicReduce',\n",
       "  'initFix',\n",
       "  'missNullCheckP',\n",
       "  'wrapsIfElse',\n",
       "  'wrongMethodRef'],\n",
       " 85: ['condBlockRetAdd', 'expLogicMod'],\n",
       " 86: ['expLogicMod', 'missNullCheckN', 'singleLine'],\n",
       " 87: ['expLogicExpand'],\n",
       " 88: ['condBlockOthersAdd'],\n",
       " 89: ['missComp', 'wrapsLoop'],\n",
       " 90: ['condBlockRetAdd', 'missComp'],\n",
       " 91: ['expLogicExpand'],\n",
       " 92: ['expLogicExpand', 'singleLine'],\n",
       " 93: ['condBlockOthersAdd', 'missComp'],\n",
       " 94: ['expArithMod', 'missComp', 'singleLine'],\n",
       " 95: ['condBlockRetAdd', 'expLogicMod'],\n",
       " 96: ['condBlockOthersAdd'],\n",
       " 97: ['expLogicExpand', 'singleLine'],\n",
       " 98: ['wrapsIfElse'],\n",
       " 99: ['expLogicExpand', 'singleLine'],\n",
       " 100: ['expLogicExpand', 'singleLine'],\n",
       " 101: ['expLogicMod', 'wrongComp'],\n",
       " 102: ['condBlockOthersAdd',\n",
       "  'expLogicMod',\n",
       "  'initFix',\n",
       "  'missNullCheckN',\n",
       "  'missNullCheckP'],\n",
       " 103: ['missNullCheckP', 'singleLine', 'wrapsIfElse'],\n",
       " 104: ['blockRemove', 'expArithMod', 'fixAPI', 'wrongComp'],\n",
       " 105: ['condBlockExcAdd', 'condBlockRetAdd', 'wrapsIfElse'],\n",
       " 106: ['condBlockOthersAdd', 'condBlockRetAdd'],\n",
       " 107: ['condBlockExcAdd', 'condBlockRetAdd', 'expLogicMod', 'missComp'],\n",
       " 108: ['wrapsIfElse'],\n",
       " 109: ['condBlockOthersAdd', 'copyPaste', 'missComp'],\n",
       " 110: ['condBlockRetAdd', 'expLogicExpand'],\n",
       " 111: ['condBlockOthersAdd', 'missComp', 'missNullCheckP'],\n",
       " 112: ['missComp', 'singleLine'],\n",
       " 113: ['constChange', 'initFix'],\n",
       " 114: ['condBlockRetAdd', 'expLogicExpand'],\n",
       " 115: ['condBlockOthersAdd', 'missComp', 'missNullCheckP'],\n",
       " 116: ['wrapsIfElse'],\n",
       " 117: ['wrapsIf'],\n",
       " 118: ['condBlockRetAdd', 'fixAPI', 'wrongComp'],\n",
       " 119: ['expLogicExpand', 'missNullCheckN', 'unwrapIfElse'],\n",
       " 120: ['condBlockOthersAdd', 'expLogicExpand', 'missComp'],\n",
       " 121: ['constChange', 'expLogicMod', 'singleLine', 'wrongVarRef'],\n",
       " 122: ['missComp', 'notClassified'],\n",
       " 123: ['missComp', 'notClassified'],\n",
       " 124: ['condBlockRetAdd', 'expLogicExpand'],\n",
       " 125: ['condBlockExcAdd', 'condBlockRetAdd', 'wrapsIfElse'],\n",
       " 126: ['missComp', 'singleLine'],\n",
       " 127: ['notClassified'],\n",
       " 128: ['expLogicReduce', 'wrongMethodRef'],\n",
       " 129: ['condBlockRetAdd', 'expLogicExpand'],\n",
       " 130: ['condBlockExcAdd'],\n",
       " 131: ['wrapsIf'],\n",
       " 132: ['expArithMod', 'singleLine', 'wrongComp', 'wrongVarRef'],\n",
       " 133: ['condBlockRetAdd', 'wrongComp'],\n",
       " 134: ['wrapsIf'],\n",
       " 135: ['singleLine'],\n",
       " 136: ['initFix', 'notClassified', 'wrongComp'],\n",
       " 137: ['singleLine'],\n",
       " 138: ['expArithMod', 'singleLine', 'wrongComp', 'wrongVarRef'],\n",
       " 139: ['missComp', 'singleLine'],\n",
       " 140: ['condBlockExcAdd'],\n",
       " 141: ['initFix', 'missComp', 'unwrapIfElse', 'unwrapMethod'],\n",
       " 142: ['condBlockOthersAdd', 'condBlockRetAdd', 'missComp', 'wrapsIf'],\n",
       " 143: ['singleLine', 'wrongVarRef'],\n",
       " 144: ['condBlockExcAdd', 'condBlockRetAdd', 'initFix', 'wrapsTryCatch'],\n",
       " 145: ['expArithMod', 'singleLine', 'wrongComp', 'wrongVarRef'],\n",
       " 146: ['condBlockRetAdd', 'expLogicExpand'],\n",
       " 147: ['condBlockExcAdd'],\n",
       " 148: ['condBlockExcAdd', 'missNullCheckN', 'wrapsIfElse'],\n",
       " 149: ['condBlockExcAdd', 'missNullCheckN', 'wrapsIfElse'],\n",
       " 150: ['condBlockOthersAdd', 'missComp', 'missNullCheckP'],\n",
       " 151: ['condBlockOthersAdd', 'missComp', 'missNullCheckP'],\n",
       " 152: ['initFix', 'missComp', 'unwrapIfElse', 'unwrapMethod'],\n",
       " 153: ['condBlockOthersAdd', 'condBlockRetAdd', 'missComp', 'wrapsIf'],\n",
       " 154: ['expArithMod', 'singleLine', 'wrongComp', 'wrongVarRef'],\n",
       " 155: ['condBlockOthersAdd', 'missComp'],\n",
       " 156: ['condBlockRetAdd', 'expLogicExpand'],\n",
       " 157: ['condBlockOthersAdd', 'copyPaste', 'missComp'],\n",
       " 158: ['condBlockRetAdd', 'expLogicExpand'],\n",
       " 159: ['singleLine', 'wrongVarRef'],\n",
       " 160: ['notClassified'],\n",
       " 161: ['missComp', 'singleLine'],\n",
       " 162: ['wrapsIfElse'],\n",
       " 163: ['condBlockOthersAdd', 'missComp', 'missNullCheckP'],\n",
       " 164: ['initFix', 'wrongVarRef'],\n",
       " 165: ['singleLine'],\n",
       " 166: ['blockRemove', 'expArithMod', 'wrongComp'],\n",
       " 167: ['condBlockRetAdd', 'expArithMod', 'initFix', 'wrongComp'],\n",
       " 168: ['notClassified'],\n",
       " 169: ['condBlockExcAdd'],\n",
       " 170: ['expArithMod', 'singleLine', 'unwrapMethod'],\n",
       " 171: ['notClassified'],\n",
       " 172: ['condBlockOthersAdd', 'copyPaste', 'missComp'],\n",
       " 173: ['copyPaste', 'wrapsLoop', 'wrongComp', 'wrongVarRef'],\n",
       " 174: ['blockRemove', 'condBlockRem', 'wrapsIfElse', 'wrongComp'],\n",
       " 175: ['condBlockExcAdd'],\n",
       " 176: ['blockRemove',\n",
       "  'condBlockOthersAdd',\n",
       "  'condBlockRem',\n",
       "  'expArithMod',\n",
       "  'wrongComp',\n",
       "  'wrongVarRef'],\n",
       " 177: ['condBlockOthersAdd'],\n",
       " 178: ['condBlockRetAdd', 'missComp'],\n",
       " 179: ['expLogicExpand', 'singleLine'],\n",
       " 180: ['expLogicMod', 'singleLine', 'unwrapMethod'],\n",
       " 181: ['condBlockOthersAdd'],\n",
       " 182: ['copyPaste',\n",
       "  'expArithMod',\n",
       "  'expLogicMod',\n",
       "  'wrapsIfElse',\n",
       "  'wrongVarRef'],\n",
       " 183: ['expLogicMod', 'initFix'],\n",
       " 184: ['expArithMod', 'singleLine'],\n",
       " 185: ['expLogicMod', 'singleLine', 'wrongVarRef'],\n",
       " 186: ['condBlockRetAdd', 'copyPaste'],\n",
       " 187: ['singleLine', 'wrongMethodRef'],\n",
       " 188: ['expArithMod', 'expLogicMod', 'wrongComp', 'wrongVarRef'],\n",
       " 189: ['condBlockExcAdd', 'condBlockRetAdd', 'wrapsTryCatch', 'wrongComp'],\n",
       " 190: ['expLogicMod', 'singleLine'],\n",
       " 191: ['missComp', 'singleLine', 'wrongVarRef'],\n",
       " 192: ['notClassified'],\n",
       " 193: ['copyPaste', 'missComp'],\n",
       " 194: ['singleLine', 'wrongVarRef'],\n",
       " 195: ['expArithMod', 'singleLine', 'unwrapMethod'],\n",
       " 196: ['condBlockRetAdd', 'missNullCheckN', 'wrapsIfElse'],\n",
       " 197: ['wrapsIfElse'],\n",
       " 198: ['notClassified'],\n",
       " 199: ['expLogicMod', 'singleLine', 'unwrapMethod'],\n",
       " 200: ['initFix', 'notClassified', 'wrongComp'],\n",
       " 201: ['blockRemove', 'condBlockRem', 'wrapsIfElse', 'wrongComp'],\n",
       " 202: ['expLogicMod', 'singleLine', 'unwrapMethod'],\n",
       " 203: ['condBlockOthersAdd', 'missComp', 'wrongComp'],\n",
       " 204: ['condBlockExcAdd', 'missComp'],\n",
       " 205: ['condBlockExcAdd'],\n",
       " 206: ['expArithMod', 'singleLine'],\n",
       " 207: ['missComp', 'singleLine'],\n",
       " 208: ['condBlockExcAdd'],\n",
       " 209: ['copyPaste', 'wrapsIfElse'],\n",
       " 210: ['initFix', 'singleLine', 'wrongVarRef'],\n",
       " 211: ['expArithMod', 'wrongComp', 'wrongMethodRef'],\n",
       " 212: ['condBlockExcAdd', 'condBlockRetAdd', 'wrapsTryCatch', 'wrongComp'],\n",
       " 213: ['copyPaste', 'expArithMod', 'initFix', 'wrongComp'],\n",
       " 214: ['condBlockRetAdd'],\n",
       " 215: ['expArithMod', 'singleLine', 'wrongComp'],\n",
       " 216: ['copyPaste', 'wrapsMethod', 'wrongVarRef'],\n",
       " 217: ['condBlockExcAdd'],\n",
       " 218: ['condBlockExcAdd'],\n",
       " 219: ['expArithMod', 'singleLine'],\n",
       " 220: ['copyPaste', 'wrapsIfElse'],\n",
       " 221: ['condBlockExcAdd', 'condBlockOthersAdd', 'missComp'],\n",
       " 222: ['condBlockExcAdd'],\n",
       " 223: ['codeMove'],\n",
       " 224: ['condBlockOthersAdd', 'wrapsIfElse'],\n",
       " 225: ['expArithMod', 'singleLine'],\n",
       " 226: ['condBlockExcAdd', 'missComp'],\n",
       " 227: ['copyPaste', 'expArithMod', 'wrongComp'],\n",
       " 228: ['notClassified'],\n",
       " 229: ['initFix', 'notClassified', 'wrongComp'],\n",
       " 230: ['condBlockExcAdd'],\n",
       " 231: ['wrapsIf'],\n",
       " 232: ['copyPaste', 'wrapsMethod'],\n",
       " 233: ['expLogicMod'],\n",
       " 234: ['initFix', 'wrongMethodRef'],\n",
       " 235: ['blockRemove', 'expArithMod', 'wrongComp'],\n",
       " 236: ['expArithMod', 'initFix', 'wrongComp'],\n",
       " 237: ['constChange', 'expArithMod', 'singleLine'],\n",
       " 238: ['expLogicMod', 'singleLine', 'unwrapMethod'],\n",
       " 239: ['expLogicMod', 'singleLine', 'unwrapMethod'],\n",
       " 240: ['blockRemove', 'condBlockRem', 'wrapsIfElse', 'wrongComp'],\n",
       " 241: ['condBlockExcAdd', 'missComp'],\n",
       " 242: ['copyPaste', 'wrapsMethod'],\n",
       " 243: ['blockRemove', 'condBlockRem', 'wrapsIfElse', 'wrongComp'],\n",
       " 244: ['singleLine', 'wrongMethodRef'],\n",
       " 245: ['expLogicExpand', 'missNullCheckP', 'singleLine'],\n",
       " 246: ['initFix', 'wrapsIf'],\n",
       " 247: ['singleLine', 'wrapsMethod'],\n",
       " 248: ['condBlockOthersAdd', 'expLogicReduce'],\n",
       " 249: ['condBlockRetAdd'],\n",
       " 250: ['condBlockOthersAdd', 'condBlockRetAdd', 'missNullCheckN', 'wrongComp'],\n",
       " 251: ['initFix', 'notClassified'],\n",
       " 252: ['condBlockOthersAdd', 'condBlockRetAdd', 'missNullCheckN', 'wrongComp'],\n",
       " 253: ['missComp', 'wrongMethodRef'],\n",
       " 254: ['singleLine', 'wrapsIf'],\n",
       " 255: ['condBlockOthersAdd', 'condBlockRetAdd', 'missNullCheckN', 'wrongComp'],\n",
       " 256: ['initFix', 'notClassified'],\n",
       " 257: ['wrapsIfElse'],\n",
       " 258: ['condBlockOthersAdd'],\n",
       " 259: ['condBlockOthersAdd', 'condBlockRetAdd', 'wrongComp'],\n",
       " 260: ['singleLine', 'wrapsIfElse'],\n",
       " 261: ['missNullCheckP', 'singleLine', 'wrapsIfElse'],\n",
       " 262: ['initFix', 'notClassified'],\n",
       " 263: ['missNullCheckP', 'singleLine', 'wrapsIfElse']}"
      ]
     },
     "execution_count": 590,
     "metadata": {},
     "output_type": "execute_result"
    }
   ],
   "source": [
    "pattern_dict"
   ]
  },
  {
   "cell_type": "code",
   "execution_count": null,
   "metadata": {
    "collapsed": true
   },
   "outputs": [],
   "source": []
  }
 ],
 "metadata": {
  "kernelspec": {
   "display_name": "Python [conda env:py36]",
   "language": "python",
   "name": "conda-env-py36-py"
  },
  "language_info": {
   "codemirror_mode": {
    "name": "ipython",
    "version": 3
   },
   "file_extension": ".py",
   "mimetype": "text/x-python",
   "name": "python",
   "nbconvert_exporter": "python",
   "pygments_lexer": "ipython3",
   "version": "3.6.7"
  }
 },
 "nbformat": 4,
 "nbformat_minor": 1
}
