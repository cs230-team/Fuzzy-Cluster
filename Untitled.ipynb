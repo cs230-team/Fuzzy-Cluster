{
 "cells": [
  {
   "cell_type": "code",
   "execution_count": 18,
   "metadata": {
    "collapsed": true
   },
   "outputs": [],
   "source": [
    "import skfuzzy as fuzz\n",
    "import numpy as np\n",
    "import matplotlib.pyplot as plt"
   ]
  },
  {
   "cell_type": "code",
   "execution_count": 2,
   "metadata": {
    "collapsed": false
   },
   "outputs": [
    {
     "data": {
      "text/plain": [
       "(48, 264)"
      ]
     },
     "execution_count": 2,
     "metadata": {},
     "output_type": "execute_result"
    }
   ],
   "source": [
    "my_data = np.genfromtxt('dataset/mat_csv.csv', delimiter=',')\n",
    "my_data.shape"
   ]
  },
  {
   "cell_type": "code",
   "execution_count": 63,
   "metadata": {
    "collapsed": true
   },
   "outputs": [],
   "source": [
    "cntr, u, u_0, _, _, _, _ = fuzz.cmeans(my_data, 26, 2.1, error = 0.0001, maxiter = 10000)"
   ]
  },
  {
   "cell_type": "code",
   "execution_count": 56,
   "metadata": {
    "collapsed": false
   },
   "outputs": [
    {
     "data": {
      "text/plain": [
       "array([ True,  True,  True, False, False, False, False, False, False,\n",
       "       False,  True, False, False, False, False, False,  True,  True,\n",
       "        True, False,  True, False, False, False, False, False, False,\n",
       "        True,  True,  True,  True,  True, False,  True, False, False,\n",
       "        True,  True,  True, False,  True,  True, False, False, False,\n",
       "       False, False,  True])"
      ]
     },
     "execution_count": 56,
     "metadata": {},
     "output_type": "execute_result"
    }
   ],
   "source": []
  },
  {
   "cell_type": "code",
   "execution_count": 35,
   "metadata": {
    "collapsed": false
   },
   "outputs": [
    {
     "data": {
      "text/plain": [
       "array([[6.36812835e-02, 1.19476887e-01, 1.32411897e-01, ...,\n",
       "        1.37986881e-01, 1.55878385e-01, 1.37986881e-01],\n",
       "       [6.36812835e-02, 1.19476887e-01, 1.32411897e-01, ...,\n",
       "        1.37986881e-01, 1.55878385e-01, 1.37986881e-01],\n",
       "       [4.66322235e-15, 2.74069824e-25, 1.33359786e-19, ...,\n",
       "        1.48014636e-23, 2.83941832e-20, 1.48014636e-23],\n",
       "       ...,\n",
       "       [6.36812835e-02, 1.19476887e-01, 1.32411897e-01, ...,\n",
       "        1.37986881e-01, 1.55878385e-01, 1.37986881e-01],\n",
       "       [4.66322235e-15, 2.74069824e-25, 1.33359786e-19, ...,\n",
       "        1.48014636e-23, 2.83941832e-20, 1.48014636e-23],\n",
       "       [4.66322235e-15, 2.74069824e-25, 1.33359786e-19, ...,\n",
       "        1.48014636e-23, 2.83941832e-20, 1.48014636e-23]])"
      ]
     },
     "execution_count": 35,
     "metadata": {},
     "output_type": "execute_result"
    }
   ],
   "source": [
    "u"
   ]
  },
  {
   "cell_type": "code",
   "execution_count": 36,
   "metadata": {
    "collapsed": false
   },
   "outputs": [
    {
     "data": {
      "text/plain": [
       "array([[0.10995327, 0.16893186, 0.13081672, ..., 0.01318905, 0.12300431,\n",
       "        0.04275761],\n",
       "       [0.14745305, 0.11755794, 0.18759966, ..., 0.04655854, 0.17729076,\n",
       "        0.13423077],\n",
       "       [0.15656082, 0.13105773, 0.13129287, ..., 0.12845748, 0.08137811,\n",
       "        0.00142794],\n",
       "       ...,\n",
       "       [0.00190303, 0.00259315, 0.15818881, ..., 0.08985072, 0.15387739,\n",
       "        0.09405625],\n",
       "       [0.13674673, 0.1384297 , 0.02839426, ..., 0.06689025, 0.06536696,\n",
       "        0.10084581],\n",
       "       [0.13297189, 0.17823421, 0.02159267, ..., 0.09718913, 0.09439398,\n",
       "        0.07908235]])"
      ]
     },
     "execution_count": 36,
     "metadata": {},
     "output_type": "execute_result"
    }
   ],
   "source": [
    "u_0"
   ]
  },
  {
   "cell_type": "code",
   "execution_count": 37,
   "metadata": {
    "collapsed": false
   },
   "outputs": [
    {
     "data": {
      "text/plain": [
       "(10, 264)"
      ]
     },
     "execution_count": 37,
     "metadata": {},
     "output_type": "execute_result"
    }
   ],
   "source": [
    "u_0.shape"
   ]
  },
  {
   "cell_type": "code",
   "execution_count": 64,
   "metadata": {
    "collapsed": false
   },
   "outputs": [],
   "source": [
    "labels = np.argmax(u, axis = 0)"
   ]
  },
  {
   "cell_type": "code",
   "execution_count": 70,
   "metadata": {
    "collapsed": false
   },
   "outputs": [
    {
     "data": {
      "text/plain": [
       "264"
      ]
     },
     "execution_count": 70,
     "metadata": {},
     "output_type": "execute_result"
    }
   ],
   "source": [
    "len(labels)"
   ]
  },
  {
   "cell_type": "code",
   "execution_count": 71,
   "metadata": {
    "collapsed": false
   },
   "outputs": [
    {
     "data": {
      "text/plain": [
       "26"
      ]
     },
     "execution_count": 71,
     "metadata": {},
     "output_type": "execute_result"
    }
   ],
   "source": [
    "len(np.argmax(u, axis = 1))"
   ]
  },
  {
   "cell_type": "code",
   "execution_count": 65,
   "metadata": {
    "collapsed": false
   },
   "outputs": [
    {
     "name": "stdout",
     "output_type": "stream",
     "text": [
      "0 21\n",
      "1 17\n",
      "2 14\n",
      "3 13\n",
      "4 17\n",
      "5 14\n",
      "6 17\n",
      "7 13\n",
      "8 13\n",
      "9 3\n",
      "10 2\n",
      "11 17\n",
      "12 13\n",
      "13 20\n",
      "14 13\n",
      "15 19\n",
      "16 17\n",
      "17 3\n",
      "18 17\n",
      "19 13\n",
      "20 17\n",
      "21 0\n",
      "22 17\n",
      "23 20\n",
      "24 0\n",
      "25 13\n",
      "26 18\n",
      "27 14\n",
      "28 13\n",
      "29 14\n",
      "30 14\n",
      "31 17\n",
      "32 19\n",
      "33 19\n",
      "34 3\n",
      "35 13\n",
      "36 19\n",
      "37 14\n",
      "38 17\n",
      "39 17\n",
      "40 11\n",
      "41 13\n",
      "42 17\n",
      "43 21\n",
      "44 3\n",
      "45 17\n",
      "46 14\n",
      "47 13\n",
      "48 17\n",
      "49 22\n",
      "50 17\n",
      "51 14\n",
      "52 12\n",
      "53 14\n",
      "54 3\n",
      "55 13\n",
      "56 17\n",
      "57 13\n",
      "58 14\n",
      "59 13\n",
      "60 13\n",
      "61 14\n",
      "62 13\n",
      "63 3\n",
      "64 14\n",
      "65 17\n",
      "66 17\n",
      "67 13\n",
      "68 13\n",
      "69 19\n",
      "70 13\n",
      "71 13\n",
      "72 17\n",
      "73 13\n",
      "74 17\n",
      "75 0\n",
      "76 21\n",
      "77 17\n",
      "78 17\n",
      "79 3\n",
      "80 3\n",
      "81 14\n",
      "82 17\n",
      "83 19\n",
      "84 13\n",
      "85 17\n",
      "86 14\n",
      "87 14\n",
      "88 17\n",
      "89 17\n",
      "90 14\n",
      "91 13\n",
      "92 13\n",
      "93 14\n",
      "94 14\n",
      "95 13\n",
      "96 3\n",
      "97 13\n",
      "98 17\n",
      "99 18\n",
      "100 17\n",
      "101 17\n",
      "102 18\n",
      "103 14\n",
      "104 20\n",
      "105 13\n",
      "106 17\n",
      "107 17\n",
      "108 0\n",
      "109 21\n",
      "110 13\n",
      "111 6\n",
      "112 13\n",
      "113 13\n",
      "114 3\n",
      "115 21\n",
      "116 17\n",
      "117 19\n",
      "118 13\n",
      "119 17\n",
      "120 12\n",
      "121 14\n",
      "122 19\n",
      "123 13\n",
      "124 21\n",
      "125 11\n",
      "126 14\n",
      "127 21\n",
      "128 19\n",
      "129 14\n",
      "130 17\n",
      "131 17\n",
      "132 13\n",
      "133 21\n",
      "134 14\n",
      "135 13\n",
      "136 3\n",
      "137 19\n",
      "138 13\n",
      "139 19\n",
      "140 20\n",
      "141 3\n",
      "142 11\n",
      "143 14\n",
      "144 12\n",
      "145 14\n",
      "146 17\n",
      "147 17\n",
      "148 17\n",
      "149 3\n",
      "150 17\n",
      "151 21\n",
      "152 14\n",
      "153 13\n",
      "154 17\n",
      "155 17\n",
      "156 3\n",
      "157 0\n",
      "158 17\n",
      "159 17\n",
      "160 21\n",
      "161 19\n",
      "162 17\n",
      "163 14\n",
      "164 14\n",
      "165 14\n",
      "166 14\n",
      "167 12\n",
      "168 20\n",
      "169 14\n",
      "170 13\n",
      "171 19\n",
      "172 18\n",
      "173 3\n",
      "174 0\n",
      "175 17\n",
      "176 5\n",
      "177 11\n",
      "178 18\n",
      "179 13\n",
      "180 3\n",
      "181 19\n",
      "182 11\n",
      "183 5\n",
      "184 14\n",
      "185 13\n",
      "186 0\n",
      "187 17\n",
      "188 3\n",
      "189 21\n",
      "190 19\n",
      "191 14\n",
      "192 14\n",
      "193 17\n",
      "194 14\n",
      "195 14\n",
      "196 18\n",
      "197 5\n",
      "198 17\n",
      "199 21\n",
      "200 3\n",
      "201 13\n",
      "202 17\n",
      "203 12\n",
      "204 19\n",
      "205 21\n",
      "206 17\n",
      "207 19\n",
      "208 22\n",
      "209 12\n",
      "210 13\n",
      "211 5\n",
      "212 20\n",
      "213 17\n",
      "214 17\n",
      "215 14\n",
      "216 17\n",
      "217 13\n",
      "218 14\n",
      "219 14\n",
      "220 13\n",
      "221 2\n",
      "222 17\n",
      "223 13\n",
      "224 3\n",
      "225 14\n",
      "226 21\n",
      "227 21\n",
      "228 13\n",
      "229 0\n",
      "230 14\n",
      "231 17\n",
      "232 3\n",
      "233 13\n",
      "234 17\n",
      "235 20\n",
      "236 20\n",
      "237 17\n",
      "238 14\n",
      "239 3\n",
      "240 17\n",
      "241 14\n",
      "242 3\n",
      "243 20\n",
      "244 14\n",
      "245 13\n",
      "246 3\n",
      "247 14\n",
      "248 19\n",
      "249 17\n",
      "250 3\n",
      "251 14\n",
      "252 18\n",
      "253 19\n",
      "254 19\n",
      "255 18\n",
      "256 14\n",
      "257 17\n",
      "258 17\n",
      "259 19\n",
      "260 17\n",
      "261 14\n",
      "262 14\n",
      "263 14\n"
     ]
    }
   ],
   "source": [
    "for i in range(264):\n",
    "    print(i, labels[i])"
   ]
  },
  {
   "cell_type": "code",
   "execution_count": 66,
   "metadata": {
    "collapsed": false
   },
   "outputs": [],
   "source": [
    "import seaborn as sns"
   ]
  },
  {
   "cell_type": "code",
   "execution_count": 67,
   "metadata": {
    "collapsed": true
   },
   "outputs": [],
   "source": [
    "sns.set(style=\"darkgrid\")"
   ]
  },
  {
   "cell_type": "code",
   "execution_count": 69,
   "metadata": {
    "collapsed": false
   },
   "outputs": [
    {
     "data": {
      "text/plain": [
       "(26, 264)"
      ]
     },
     "execution_count": 69,
     "metadata": {},
     "output_type": "execute_result"
    }
   ],
   "source": [
    "u.shape"
   ]
  },
  {
   "cell_type": "code",
   "execution_count": 68,
   "metadata": {
    "collapsed": false
   },
   "outputs": [
    {
     "data": {
      "text/plain": [
       "array([0.08078266, 0.01620386, 0.0294322 , 0.00746637, 0.01925214,\n",
       "       0.03512696, 0.03090708, 0.0002625 , 0.01221299, 0.05984952,\n",
       "       0.00041954, 0.01946836, 0.00962009, 0.01964105, 0.01680457,\n",
       "       0.03321696, 0.04629059, 0.08141844, 0.02244768, 0.00977814,\n",
       "       0.01008281, 0.0696489 , 0.04563746, 0.03607237, 0.05907632,\n",
       "       0.02180766, 0.06028279, 0.0001214 , 0.0002625 , 0.0097006 ,\n",
       "       0.02580928, 0.01008281, 0.00793137, 0.04257521, 0.05742105,\n",
       "       0.0002625 , 0.009406  , 0.00944365, 0.01349532, 0.01280343,\n",
       "       0.04002059, 0.0002625 , 0.01008281, 0.07974195, 0.07248098,\n",
       "       0.04737706, 0.01117644, 0.00765498, 0.03081295, 0.00051358,\n",
       "       0.01008281, 0.01978685, 0.03075741, 0.00944365, 0.07896985,\n",
       "       0.0111933 , 0.04126129, 0.02501814, 0.0001214 , 0.0002625 ,\n",
       "       0.0129364 , 0.01220618, 0.00765498, 0.05917759, 0.0001214 ,\n",
       "       0.00875818, 0.05498248, 0.0002625 , 0.00962009, 0.00793137,\n",
       "       0.00837753, 0.0002625 , 0.01435775, 0.00977814, 0.00944633,\n",
       "       0.09875198, 0.07170578, 0.04760793, 0.02518351, 0.05210857,\n",
       "       0.05933889, 0.01097722, 0.04673201, 0.01335737, 0.01416856,\n",
       "       0.009663  , 0.00956146, 0.01996201, 0.02208425, 0.00944633,\n",
       "       0.00871387, 0.0002625 , 0.01221299, 0.0001214 , 0.00871387,\n",
       "       0.0002625 , 0.05573418, 0.02646789, 0.01984175, 0.06262903,\n",
       "       0.009663  , 0.02133188, 0.06088724, 0.00956146, 0.04403272,\n",
       "       0.04743082, 0.00850133, 0.05549638, 0.09125554, 0.08437671,\n",
       "       0.00977345, 0.00010634, 0.02011482, 0.00765498, 0.06038623,\n",
       "       0.07392052, 0.04846704, 0.00808182, 0.01702749, 0.0421194 ,\n",
       "       0.03292011, 0.0001214 , 0.03226507, 0.01034257, 0.06993959,\n",
       "       0.04182548, 0.0001214 , 0.07243861, 0.01975816, 0.00964129,\n",
       "       0.02119122, 0.04290647, 0.00746826, 0.06865605, 0.03780929,\n",
       "       0.01056686, 0.07285829, 0.00808182, 0.0111933 , 0.00885582,\n",
       "       0.03439959, 0.05503397, 0.03704522, 0.0001214 , 0.03988531,\n",
       "       0.01529429, 0.01293603, 0.00850133, 0.01125746, 0.06442609,\n",
       "       0.0096874 , 0.07794382, 0.0001214 , 0.01525384, 0.04014337,\n",
       "       0.01008281, 0.09164303, 0.07123965, 0.04734146, 0.00850133,\n",
       "       0.08180061, 0.01031424, 0.01513979, 0.0312273 , 0.02427076,\n",
       "       0.0001214 , 0.02512916, 0.00743381, 0.01369412, 0.01085198,\n",
       "       0.0111933 , 0.01080638, 0.0210439 , 0.07283381, 0.08434314,\n",
       "       0.03036115, 0.03549672, 0.0017438 , 0.05770303, 0.0002625 ,\n",
       "       0.07357897, 0.02966106, 0.04828532, 0.0374534 , 0.0001214 ,\n",
       "       0.0002625 , 0.08047835, 0.03616148, 0.04788094, 0.07875561,\n",
       "       0.01432053, 0.00956146, 0.0001214 , 0.04563746, 0.0001214 ,\n",
       "       0.0001214 , 0.05531785, 0.0382371 , 0.01502077, 0.06943514,\n",
       "       0.06244837, 0.02243581, 0.00850133, 0.03499418, 0.02268098,\n",
       "       0.08683751, 0.05347704, 0.01505459, 0.02707831, 0.04586861,\n",
       "       0.00779716, 0.00065118, 0.04824579, 0.03172078, 0.01008281,\n",
       "       0.0001214 , 0.03351591, 0.0002625 , 0.01085198, 0.0001214 ,\n",
       "       0.0098109 , 0.04567004, 0.04014337, 0.01250545, 0.0783587 ,\n",
       "       0.0001214 , 0.07095829, 0.07507958, 0.01266801, 0.06493961,\n",
       "       0.04343692, 0.04670623, 0.06128593, 0.01918218, 0.02094552,\n",
       "       0.03323308, 0.03631051, 0.01732048, 0.0001214 , 0.06374854,\n",
       "       0.01353361, 0.00944365, 0.07798704, 0.03579345, 0.0001214 ,\n",
       "       0.00922176, 0.07384685, 0.00956146, 0.01942554, 0.00850133,\n",
       "       0.07731647, 0.0381942 , 0.04781386, 0.0126095 , 0.00808182,\n",
       "       0.03768189, 0.00944365, 0.02646247, 0.00850133, 0.02505456,\n",
       "       0.021486  , 0.0001214 , 0.02524727, 0.0001214 ])"
      ]
     },
     "execution_count": 68,
     "metadata": {},
     "output_type": "execute_result"
    }
   ],
   "source": [
    "u[, :]"
   ]
  },
  {
   "cell_type": "code",
   "execution_count": 74,
   "metadata": {
    "collapsed": false
   },
   "outputs": [],
   "source": [
    "clus_3 = u.argsort()[-3:][::-1]"
   ]
  },
  {
   "cell_type": "code",
   "execution_count": 104,
   "metadata": {
    "collapsed": false
   },
   "outputs": [],
   "source": [
    "text_file = open(\"dataset/filenames_1.txt\", \"r\")\n",
    "#lines = text_file.readlines()\n",
    "#print lines\n",
    "#print len(lines)\n",
    "#text_file.close()f = open('my_file', 'r+')\n",
    "lines = [line.rstrip('\\n') for line in text_file.readlines()]\n",
    "text_file.close()"
   ]
  },
  {
   "cell_type": "code",
   "execution_count": 105,
   "metadata": {
    "collapsed": true
   },
   "outputs": [
    {
     "data": {
      "text/plain": [
       "['00b151_974027_src#com#google#javascript#jscomp#FunctionTypeBuilder.java',\n",
       " '0123fd_9f8903_src#com#google#javascript#jscomp#ReferenceCollectingCallback.java',\n",
       " '03fee3_d5bf6b_src#com#google#javascript#jscomp#PeepholeFoldConstants.java',\n",
       " '046e0b_3e0d17_src#com#google#javascript#jscomp#GlobalNamespace.java',\n",
       " '084b86_a65a72_src#com#google#javascript#jscomp#parsing#IRFactory.java',\n",
       " '0884a4_f681fd_src#com#google#javascript#jscomp#NodeUtil.java',\n",
       " '0907b6_5cd9c1_src#com#google#javascript#jscomp#NodeUtil.java',\n",
       " '0a670c_82dd78_src#com#google#javascript#jscomp#Compiler.java',\n",
       " '0fb76a_fa1e46_src#com#google#javascript#jscomp#ProcessClosurePrimitives.java',\n",
       " '113a08_8e121a_src#com#google#javascript#jscomp#FoldConstants.java',\n",
       " '1a7ba5_62581c_src#com#google#javascript#jscomp#MakeDeclaredNamesUnique.java',\n",
       " '1dfad5_2353d8_src#com#google#javascript#jscomp#RemoveUnusedVars.java',\n",
       " '211dc0_437a9e_src#com#google#javascript#jscomp#UnreachableCodeElimination.java',\n",
       " '21a210_241099_src#com#google#javascript#jscomp#UnreachableCodeElimination.java',\n",
       " '25829b_b40c6c_src#com#google#javascript#jscomp#PeepholeFoldConstants.java',\n",
       " '2e904f_372eb1_src#com#google#javascript#jscomp#TypeInference.java',\n",
       " '33ab4d_e5e125_src#com#google#javascript#jscomp#TypedScopeCreator.java',\n",
       " '34e461_bac712_src#com#google#javascript#jscomp#NodeUtil.java',\n",
       " '372eb1_d36428_src#com#google#javascript#jscomp#ProcessCommonJSModules.java',\n",
       " '37b0e1_7deaed_src#com#google#javascript#jscomp#LightweightMessageFormatter.java',\n",
       " '382422_24c113_src#com#google#javascript#rhino#jstype#PrototypeObjectType.java',\n",
       " '3b97e5_33ab4d_src#com#google#javascript#jscomp#ScopedAliases.java',\n",
       " '43c245_840ddc_src#com#google#javascript#jscomp#CommandLineRunner.java',\n",
       " '459773_2d6e1c_src#com#google#javascript#jscomp#FunctionInjector.java',\n",
       " '46da17_5524ad_src#com#google#javascript#jscomp#TypedScopeCreator.java',\n",
       " '482b76_bbf1b1_src#com#google#javascript#jscomp#TypeCheck.java',\n",
       " '4839e1_9f8345_src#com#google#javascript#jscomp#parsing#IRFactory.java',\n",
       " '48aea0_9465f9_src#com#google#javascript#jscomp#CodeGenerator.java',\n",
       " '49b4ef_5331b9_src#com#google#javascript#jscomp#Compiler.java',\n",
       " '4a1a31_edb6e4_src#com#google#javascript#rhino#jstype#RecordType.java',\n",
       " '4fbbc4_c5e6df_src#com#google#javascript#jscomp#parsing#JsDocInfoParser.java',\n",
       " '58786c_a2153e_src#com#google#javascript#jscomp#NodeUtil.java',\n",
       " '5909c3_d79072_src#com#google#javascript#jscomp#CodeGenerator.java',\n",
       " '59a30b_984bce_src#com#google#javascript#jscomp#TypeCheck.java',\n",
       " '59eec9_722d11_src#com#google#javascript#jscomp#InlineObjectLiterals.java',\n",
       " '5b9485_f5a77b_src#com#google#javascript#jscomp#PeepholeSubstituteAlternateSyntax.java',\n",
       " '5f03c6_a44af4_src#com#google#javascript#jscomp#NameAnalyzer.java',\n",
       " '6300a4_e237d2_src#com#google#javascript#jscomp#CollapseVariableDeclarations.java',\n",
       " '63df13_036f21_src#com#google#javascript#jscomp#TypeCheck.java',\n",
       " '64bb22_3e66c9_src#com#google#javascript#jscomp#CodeConsumer.java',\n",
       " '66c8c6_116e0d_src#com#google#javascript#jscomp#parsing#JsDocInfoParser.java',\n",
       " '67289a_1be1c2_src#com#google#javascript#rhino#jstype#UnionType.java',\n",
       " '686146_8d91f3_src#com#google#javascript#jscomp#type#ChainableReverseAbstractInterpreter.java',\n",
       " '692491_3587cc_src#com#google#javascript#jscomp#InlineObjectLiterals.java',\n",
       " '6a17da_d68322_src#com#google#javascript#jscomp#DeadAssignmentsElimination.java',\n",
       " '6aa71f_a55420_src#com#google#javascript#jscomp#RemoveUnusedVars.java',\n",
       " '6ebc0c_a90f4b_src#com#google#javascript#jscomp#NameAnalyzer.java',\n",
       " '6f981f_450f0f_src#com#google#javascript#jscomp#type#ClosureReverseAbstractInterpreter.java',\n",
       " '70ca60_59aac0_src#com#google#javascript#jscomp#ScopedAliases.java',\n",
       " '78b01c_a6ca7c_src#com#google#javascript#jscomp#DeadAssignmentsElimination.java',\n",
       " '79a890_4ff5d0_src#com#google#javascript#jscomp#PrepareAst.java',\n",
       " '7a8983_1d9ecb_src#com#google#javascript#rhino#IR.java',\n",
       " '7cc748_9d7261_src#com#google#javascript#jscomp#NodeUtil.java',\n",
       " '7d26b7_bb8932_src#com#google#javascript#jscomp#parsing#JsDocInfoParser.java',\n",
       " '7eb2d8_8eee75_src#com#google#javascript#jscomp#CheckGlobalThis.java',\n",
       " '7f6700_602dc3_src#com#google#javascript#rhino#TokenStream.java',\n",
       " '807aaf_b9bc15_src#com#google#javascript#jscomp#TypeCheck.java',\n",
       " '871bca_6c4313_src#com#google#javascript#jscomp#TypeValidator.java',\n",
       " '8980b6_39dde4_src#com#google#javascript#jscomp#ProcessClosurePrimitives.java',\n",
       " '8cef00_ddc129_src#com#google#javascript#jscomp#TypeCheck.java',\n",
       " '8cf081_f067d0_src#com#google#javascript#jscomp#CodeConsumer.java',\n",
       " '8d11b8_60dac8_src#com#google#javascript#jscomp#CodeGenerator.java',\n",
       " '968b3f_f9fbad_src#com#google#javascript#jscomp#FlowSensitiveInlineVariables.java',\n",
       " '995971_4adf02_src#com#google#javascript#jscomp#InlineObjectLiterals.java',\n",
       " '9d1e18_386ab6_src#com#google#javascript#jscomp#ProcessClosurePrimitives.java',\n",
       " '9d5a6e_f392c8_src#com#google#javascript#jscomp#parsing#JsDocInfoParser.java',\n",
       " '9e921f_f791e3_src#com#google#javascript#jscomp#SourceFile.java',\n",
       " '9fac3c_8a37f1_src#com#google#javascript#jscomp#CollapseProperties.java',\n",
       " 'a02241_44c2d7_src#com#google#javascript#jscomp#CodeConsumer.java',\n",
       " 'a857ae_1a7fbd_src#com#google#javascript#rhino#jstype#JSType.java',\n",
       " 'a8a456_f22a0e_src#com#google#javascript#jscomp#parsing#IRFactory.java',\n",
       " 'aa89d0_8777ed_src#com#google#javascript#jscomp#AnalyzePrototypeProperties.java',\n",
       " 'aae547_acd31d_src#com#google#javascript#jscomp#ScopedAliases.java',\n",
       " 'b12d1d_1e0704_src#com#google#javascript#jscomp#LightweightMessageFormatter.java',\n",
       " 'b168c8_fb0f2f_src#com#google#javascript#jscomp#TypeInference.java',\n",
       " 'b59cdd_30a88d_src#com#google#javascript#jscomp#PeepholeFoldConstants.java',\n",
       " 'b80dfd_b9262d_src#com#google#javascript#jscomp#FunctionInjector.java',\n",
       " 'b88400_258279_src#com#google#javascript#jscomp#CodeGenerator.java',\n",
       " 'be397e_c5ec81_src#com#google#javascript#jscomp#InlineVariables.java',\n",
       " 'c3b630_9d3ed3_src#com#google#javascript#jscomp#PeepholeReplaceKnownMethods.java',\n",
       " 'c6cc58_31baad_src#com#google#javascript#jscomp#NodeUtil.java',\n",
       " 'd06ac1_919fda_src#com#google#javascript#jscomp#MaybeReachingVariableUse.java',\n",
       " 'd1cfe6_610950_src#com#google#javascript#jscomp#TypeCheck.java',\n",
       " 'd57797_9a40e6_src#com#google#javascript#rhino#jstype#PrototypeObjectType.java',\n",
       " 'd80fcc_3cc85c_src#com#google#javascript#jscomp#FlowSensitiveInlineVariables.java',\n",
       " 'd82fb3_79a890_src#com#google#javascript#jscomp#CodeGenerator.java',\n",
       " 'db1fdf_c498ec_src#com#google#javascript#jscomp#CheckAccessControls.java',\n",
       " 'de7265_620fc2_src#com#google#javascript#jscomp#Compiler.java',\n",
       " 'e736b1_d93f2d_src#com#google#javascript#jscomp#type#ChainableReverseAbstractInterpreter.java',\n",
       " 'e7f426_95ff04_src#com#google#javascript#jscomp#ExploitAssigns.java',\n",
       " 'e9c154_19233b_src#com#google#javascript#jscomp#ProcessCommonJSModules.java',\n",
       " 'ea119a_686146_src#com#google#javascript#jscomp#Compiler.java',\n",
       " 'ebf229_7e98b9_src#com#google#javascript#jscomp#PeepholeSubstituteAlternateSyntax.java',\n",
       " 'ec4a34_7433d3_src#com#google#javascript#jscomp#TypedScopeCreator.java',\n",
       " 'ee749e_4cf197_src#com#google#javascript#jscomp#PeepholeFoldConstants.java',\n",
       " 'ee8344_760bde_src#com#google#javascript#jscomp#CodeGenerator.java',\n",
       " 'f17961_046e0b_src#com#google#javascript#jscomp#DisambiguateProperties.java',\n",
       " 'f2c0cb_1d13ea_src#com#google#javascript#jscomp#FunctionRewriter.java',\n",
       " 'f640b5_7876ab_src#com#google#javascript#jscomp#LiveVariablesAnalysis.java',\n",
       " 'f64a3f_e9f7e6_src#com#google#javascript#jscomp#PeepholeSubstituteAlternateSyntax.java',\n",
       " 'f759f4_2d3b9a_src#com#google#javascript#jscomp#ClosureCodingConvention.java',\n",
       " 'fb0142_f74939_src#com#google#javascript#jscomp#parsing#IRFactory.java',\n",
       " 'C:\\\\Users\\\\rupa\\\\Documents\\\\Rupa\\\\UCLA\\\\Q3\\\\CS230\\\\Project\\\\dataset\\\\input\\\\Defects4J\\\\commons-lang.git/revFiles/',\n",
       " '006fca_1c606c_src#main#java#org#apache#commons#lang3#builder#HashCodeBuilder.java',\n",
       " '0603ae_575be1_src#main#java#org#apache#commons#lang3#ClassUtils.java',\n",
       " '0695c3_3333dc_src#java#org#apache#commons#lang#time#DurationFormatUtils.java',\n",
       " '09d390_aefc12_src#main#java#org#apache#commons#lang3#LocaleUtils.java',\n",
       " '0ac772_390507_src#java#org#apache#commons#lang#math#Fraction.java',\n",
       " '0b2b82_1b708e_src#main#java#org#apache#commons#lang3#math#Fraction.java',\n",
       " '0b3a8a_85481c_src#main#java#org#apache#commons#lang3#text#translate#NumericEntityUnescaper.java',\n",
       " '1313a6_cb7bfb_src#java#org#apache#commons#lang#Entities.java',\n",
       " '13c7f1_a145b6_src#main#java#org#apache#commons#lang3#math#NumberUtils.java',\n",
       " '19b637_24f651_src#main#java#org#apache#commons#lang3#StringUtils.java',\n",
       " '2aa9dc_aefe07_src#main#java#org#apache#commons#lang3#time#FastDateFormat.java',\n",
       " '2bae68_eb94e6_src#main#java#org#apache#commons#lang3#text#translate#EntityArrays.java',\n",
       " '2c9c87_1f001d_src#main#java#org#apache#commons#lang3#math#NumberUtils.java',\n",
       " '38bf70_0cc451_src#main#java#org#apache#commons#lang3#StringUtils.java',\n",
       " '3e1afe_8da5fb_src#main#java#org#apache#commons#lang3#text#translate#NumericEntityUnescaper.java',\n",
       " '3ef8a7_d8c22b_src#java#org#apache#commons#lang#time#StopWatch.java',\n",
       " '463561_458597_src#main#java#org#apache#commons#lang3#text#ExtendedMessageFormat.java',\n",
       " '496525_3f900a_src#main#java#org#apache#commons#lang3#builder#ToStringStyle.java',\n",
       " '4d3629_ac5880_src#java#org#apache#commons#lang#ClassUtils.java',\n",
       " '55f642_a47398_src#main#java#org#apache#commons#lang3#time#DateUtils.java',\n",
       " '659ef2_b2f175_src#java#org#apache#commons#lang#time#FastDateFormat.java',\n",
       " '672e3a_7d1b54_src#java#org#apache#commons#lang#time#FastDateFormat.java',\n",
       " '687b2e_2c454a_src#main#java#org#apache#commons#lang3#math#NumberUtils.java',\n",
       " '75944e_379151_src#main#java#org#apache#commons#lang3#LocaleUtils.java',\n",
       " '75d5b7_e67792_src#main#java#org#apache#commons#lang3#time#FastDateFormat.java',\n",
       " '80bd78_48bf24_src#main#java#org#apache#commons#lang3#ArrayUtils.java',\n",
       " '8185a9_76912e_src#main#java#org#apache#commons#lang3#reflect#TypeUtils.java',\n",
       " '81903a_d61f50_src#main#java#org#apache#commons#lang3#math#NumberUtils.java',\n",
       " '81f10d_cf28c8_src#java#org#apache#commons#lang#NumberUtils.java',\n",
       " '868f69_5209ce_src#java#org#apache#commons#lang#StringEscapeUtils.java',\n",
       " '88c76d_1313a6_src#java#org#apache#commons#lang#text#StrBuilder.java',\n",
       " '8b1a8e_c72adf_src#java#org#apache#commons#lang#StringUtils.java',\n",
       " '916639_229151_src#java#org#apache#commons#lang#StringEscapeUtils.java',\n",
       " '982e29_cbf8e4_src#main#java#org#apache#commons#lang3#SystemUtils.java',\n",
       " 'a4a455_8d192d_src#main#java#org#apache#commons#lang3#time#FastDatePrinter.java',\n",
       " 'a5589b_3b46d6_src#java#org#apache#commons#lang#BooleanUtils.java',\n",
       " 'a8203b_88c76d_src#java#org#apache#commons#lang#text#StrBuilder.java',\n",
       " 'a95e76_e28c95_src#java#org#apache#commons#lang3#time#FastDateFormat.java',\n",
       " 'afe5df_0afcd1_src#main#java#org#apache#commons#lang3#time#FastDateParser.java',\n",
       " 'b4255e_a7e90b_src#main#java#org#apache#commons#lang3#text#translate#CharSequenceTranslator.java',\n",
       " 'bb1671_c8fc5f_src#java#org#apache#commons#lang#time#DateUtils.java',\n",
       " 'bbd990_c71373_src#java#org#apache#commons#lang#LocaleUtils.java',\n",
       " 'bd59a1_d0cf0f_src#main#java#org#apache#commons#lang3#SerializationUtils.java',\n",
       " 'c04cd2_38f8bc_src#java#org#apache#commons#lang#text#StrBuilder.java',\n",
       " 'c2560c_7c9153_src#main#java#org#apache#commons#lang3#math#NumberUtils.java',\n",
       " 'c45d5b_afe5df_src#main#java#org#apache#commons#lang3#time#FastDateParser.java',\n",
       " 'c821fa_c9d786_src#main#java#org#apache#commons#lang3#RandomStringUtils.java',\n",
       " 'c9d786_9351ed_src#main#java#org#apache#commons#lang3#RandomStringUtils.java',\n",
       " 'cb40e3_0aa57f_src#java#org#apache#commons#lang3#StringUtils.java',\n",
       " 'cf7211_c8afaa_src#main#java#org#apache#commons#lang3#StringUtils.java',\n",
       " 'cff0f1_6823c3_src#main#java#org#apache#commons#lang3#text#translate#CharSequenceTranslator.java',\n",
       " 'd3b116_b6f7a8_src#java#org#apache#commons#lang#time#DateUtils.java',\n",
       " 'd5e343_19f33e_src#java#org#apache#commons#lang#text#StrBuilder.java',\n",
       " 'd95fcd_cfff06_src#java#org#apache#commons#lang#WordUtils.java',\n",
       " 'da0612_ec0c4e_src#java#org#apache#commons#lang3#math#NumberUtils.java',\n",
       " 'dd2ae7_682176_src#java#org#apache#commons#lang#Entities.java',\n",
       " 'e71f6d_f0c7e6_src#main#java#org#apache#commons#lang3#math#NumberUtils.java',\n",
       " 'e89e8d_5ccddb_src#java#org#apache#commons#lang#LocaleUtils.java',\n",
       " 'ea140f_b5906d_src#java#org#apache#commons#lang3#ArrayUtils.java',\n",
       " 'eb3e2a_ac2a39_src#java#org#apache#commons#lang#text#ExtendedMessageFormat.java',\n",
       " 'eb8f74_3cea4b_src#java#org#apache#commons#lang#builder#EqualsBuilder.java',\n",
       " 'f08213_0c01b4_src#main#java#org#apache#commons#lang3#StringUtils.java',\n",
       " 'fb47b9_4ddbd9_src#main#java#org#apache#commons#lang3#text#translate#LookupTranslator.java',\n",
       " 'C:\\\\Users\\\\rupa\\\\Documents\\\\Rupa\\\\UCLA\\\\Q3\\\\CS230\\\\Project\\\\dataset\\\\input\\\\Defects4J\\\\commons-math.git/revFiles/',\n",
       " '00fea9_d3892c_src#main#java#org#apache#commons#math#stat#clustering#KMeansPlusPlusClusterer.java',\n",
       " '09e358_0b78d9_src#main#java#org#apache#commons#math#linear#OpenMapRealVector.java',\n",
       " '0c3850_3114d4_src#main#java#org#apache#commons#math#geometry#Vector3D.java',\n",
       " '0c84b2_43336b_src#java#org#apache#commons#math#stat#Frequency.java',\n",
       " '138bae_ca1ca9_src#main#java#org#apache#commons#math#util#MathUtils.java',\n",
       " '1566dd_5f2077_src#main#java#org#apache#commons#math3#fraction#Fraction.java',\n",
       " '196e63_550464_src#main#java#org#apache#commons#math3#distribution#DiscreteDistribution.java',\n",
       " '1a15d5_966d2e_src#main#java#org#apache#commons#math#fraction#BigFraction.java',\n",
       " '1cd68e_96cd02_src#main#java#org#apache#commons#math3#ode#AbstractIntegrator.java',\n",
       " '24a6a2_1b48db_src#java#org#apache#commons#math#optimization#linear#SimplexTableau.java',\n",
       " '29c3b7_168737_src#main#java#org#apache#commons#math#analysis#solvers#BrentSolver.java',\n",
       " '2d846d_6a5ef0_src#main#java#org#apache#commons#math3#util#ContinuedFraction.java',\n",
       " '2f066a_34fef6_src#main#java#org#apache#commons#math#analysis#solvers#BaseSecantSolver.java',\n",
       " '317793_6eeb2b_src#main#java#org#apache#commons#math#optimization#direct#MultiDirectional.java',\n",
       " '32643d_29b732_src#java#org#apache#commons#math#complex#ComplexFormat.java',\n",
       " '330f3f_bbb5e1_src#main#java#org#apache#commons#math#complex#Complex.java',\n",
       " '39cf5e_ef0288_src#main#java#org#apache#commons#math#analysis#solvers#BaseSecantSolver.java',\n",
       " '39e2ad_d60761_src#main#java#org#apache#commons#math#linear#SingularValueDecompositionImpl.java',\n",
       " '3c319d_def9fb_src#main#java#org#apache#commons#math#geometry#euclidean#threed#Rotation.java',\n",
       " '3ced4f_7d903c_src#main#java#org#apache#commons#math#linear#EigenDecompositionImpl.java',\n",
       " '3ef793_e5c7e4_src#main#java#org#apache#commons#math3#optimization#linear#SimplexTableau.java',\n",
       " '41ba9e_5de83d_src#java#org#apache#commons#math#fraction#ProperFractionFormat.java',\n",
       " '45add3_b13923_src#main#java#org#apache#commons#math#optimization#fitting#GaussianFitter.java',\n",
       " '468ed8_dbb408_src#main#java#org#apache#commons#math3#linear#RectangularCholeskyDecomposition.java',\n",
       " '4ce05b_b80582_src#java#org#apache#commons#math#distribution#NormalDistributionImpl.java',\n",
       " '4ece18_f36be8_src#main#java#org#apache#commons#math#optimization#linear#SimplexSolver.java',\n",
       " '520f36_b91b3e_src#main#java#org#apache#commons#math3#genetics#ListPopulation.java',\n",
       " '523df0_39e2ad_src#main#java#org#apache#commons#math#stat#Frequency.java',\n",
       " '53c8ce_4d9947_src#main#java#org#apache#commons#math#ode#AbstractIntegrator.java',\n",
       " '5dcca4_ffcaeb_src#main#java#org#apache#commons#math#util#FastMath.java',\n",
       " '5f2077_d3fc5a_src#main#java#org#apache#commons#math3#fraction#Fraction.java',\n",
       " '615ca9_103f12_src#main#java#org#apache#commons#math#optimization#general#LevenbergMarquardtOptimizer.java',\n",
       " '621806_076111_src#main#java#org#apache#commons#math3#dfp#Dfp.java',\n",
       " '62b387_0c84b2_src#java#org#apache#commons#math#stat#Frequency.java',\n",
       " '65ed08_de147e_src#main#java#org#apache#commons#math#complex#Complex.java',\n",
       " '74e002_c23859_src#main#java#org#apache#commons#math#ode#nonstiff#EmbeddedRungeKuttaIntegrator.java',\n",
       " '75f5c9_d0c52c_src#java#org#apache#commons#math#optimization#linear#SimplexTableau.java',\n",
       " '7707b0_3eb357_src#main#java#org#apache#commons#math#complex#Complex.java',\n",
       " '7bbddc_350b2b_src#main#java#org#apache#commons#math3#linear#OpenMapRealVector.java',\n",
       " '7c7d7e_6e62ae_src#main#java#org#apache#commons#math3#optimization#direct#CMAESOptimizer.java',\n",
       " '7cd3d8_3112f6_src#java#org#apache#commons#math#util#MathUtils.java',\n",
       " '7d903c_6e3ea6_src#main#java#org#apache#commons#math#linear#EigenDecompositionImpl.java',\n",
       " '7e2ffc_d2a916_src#main#java#org#apache#commons#math3#analysis#differentiation#DSCompiler.java',\n",
       " '85a8ab_63c7bc_src#java#org#apache#commons#math#util#MathUtils.java',\n",
       " '875ed1_87324e_src#main#java#org#apache#commons#math3#util#FastMath.java',\n",
       " '882556_91e6ac_src#main#java#org#apache#commons#math#stat#descriptive#moment#Variance.java',\n",
       " '8de3eb_6a0772_src#main#java#org#apache#commons#math#optimization#univariate#MultiStartUnivariateRealOptimizer.java',\n",
       " '9054aa_874306_src#main#java#org#apache#commons#math#distribution#NormalDistributionImpl.java',\n",
       " '91cc42_74e002_src#main#java#org#apache#commons#math#optimization#direct#BOBYQAOptimizer.java',\n",
       " '92c469_de4209_src#main#java#org#apache#commons#math3#util#MathArrays.java',\n",
       " 'a2711c_727282_src#main#java#org#apache#commons#math#stat#correlation#PearsonsCorrelation.java',\n",
       " 'a5d8d1_88f944_src#main#java#org#apache#commons#math3#genetics#ElitisticListPopulation.java',\n",
       " 'a96e59_ee8805_src#java#org#apache#commons#math#util#MathUtils.java',\n",
       " 'aa09ac_29c3b7_src#main#java#org#apache#commons#math#analysis#solvers#BrentSolver.java',\n",
       " 'aa2bd1_02f64e_src#main#java#org#apache#commons#math3#distribution#MultivariateNormalDistribution.java',\n",
       " 'b221a7_efcf91_src#main#java#org#apache#commons#math3#util#FastMath.java',\n",
       " 'b3ed24_cc7e3e_src#main#java#org#apache#commons#math#ode#events#EventState.java',\n",
       " 'bc4e9d_4a702d_src#main#java#org#apache#commons#math#linear#OpenMapRealMatrix.java',\n",
       " 'bd8f05_75f5c9_src#java#org#apache#commons#math#linear#CholeskyDecompositionImpl.java',\n",
       " 'c00ac8_804309_src#main#java#org#apache#commons#math#dfp#Dfp.java',\n",
       " 'c0b655_ad5c90_src#main#java#org#apache#commons#math3#distribution#HypergeometricDistribution.java',\n",
       " 'c73fad_efa9de_src#main#java#org#apache#commons#math3#optimization#direct#CMAESOptimizer.java',\n",
       " 'c8becc_efa782_src#main#java#org#apache#commons#math#analysis#solvers#BracketingNthOrderBrentSolver.java',\n",
       " 'cc82d3_67fc87_src#main#java#org#apache#commons#math3#random#BitsStreamGenerator.java',\n",
       " 'd06e7b_034b4d_src#main#java#org#apache#commons#math#ode#nonstiff#EmbeddedRungeKuttaIntegrator.java',\n",
       " 'd2a5bc_91b44a_src#main#java#org#apache#commons#math#util#MathUtils.java',\n",
       " 'd3fc5a_a55c95_src#main#java#org#apache#commons#math3#optimization#linear#SimplexSolver.java',\n",
       " 'd5ff46_4e21bb_src#main#java#org#apache#commons#math3#optimization#univariate#BrentOptimizer.java',\n",
       " 'dcae84_c282a0_src#main#java#org#apache#commons#math#stat#descriptive#SummaryStatistics.java',\n",
       " 'de98c0_c929ae_src#main#java#org#apache#commons#math3#geometry#euclidean#threed#Line.java',\n",
       " 'e06fe0_d773ad_src#main#java#org#apache#commons#math#util#MultidimensionalCounter.java',\n",
       " 'e1df5f_9fb5d2_src#java#org#apache#commons#math#fraction#Fraction.java',\n",
       " 'e54a1c_f5bcba_src#main#java#org#apache#commons#math3#complex#Complex.java',\n",
       " 'e6449c_704342_src#java#org#apache#commons#math#complex#Complex.java',\n",
       " 'e6f27e_330f3f_src#main#java#org#apache#commons#math#complex#Complex.java',\n",
       " 'e98a50_800943_src#main#java#org#apache#commons#math#optimization#linear#SimplexTableau.java',\n",
       " 'efa9de_5a5007_src#main#java#org#apache#commons#math3#optimization#direct#CMAESOptimizer.java',\n",
       " 'f1b04e_2b4c1f_src#main#java#org#apache#commons#math3#optimization#univariate#BrentOptimizer.java',\n",
       " 'f36be8_0878ad_src#main#java#org#apache#commons#math#optimization#linear#SimplexTableau.java',\n",
       " 'f41fcd_f184ae_src#main#java#org#apache#commons#math#analysis#solvers#BisectionSolver.java',\n",
       " 'f81847_8d6478_src#main#java#org#apache#commons#math3#geometry#euclidean#twod#PolygonsSet.java',\n",
       " 'fbf871_e640d1_src#java#org#apache#commons#math#distribution#FDistributionImpl.java',\n",
       " 'fc21b2_ab1b95_src#java#org#apache#commons#math#stat#regression#SimpleRegression.java',\n",
       " 'C:\\\\Users\\\\rupa\\\\Documents\\\\Rupa\\\\UCLA\\\\Q3\\\\CS230\\\\Project\\\\dataset\\\\input\\\\Defects4J\\\\joda-time.git/revFiles/',\n",
       " 'C:\\\\Users\\\\rupa\\\\Documents\\\\Rupa\\\\UCLA\\\\Q3\\\\CS230\\\\Project\\\\dataset\\\\input\\\\Defects4J\\\\mockito.git/revFiles/',\n",
       " '203736_881006_src#org#mockito#internal#MockHandler.java',\n",
       " '31f908_f45c2d_src#org#mockito#internal#stubbing#answers#CallsRealMethods.java',\n",
       " '3eec74_4e9d76_src#org#mockito#internal#invocation#InvocationMatcher.java',\n",
       " '42b391_c25cb6_src#org#mockito#exceptions#Reporter.java',\n",
       " '4e9d76_837fd0_src#org#mockito#internal#invocation#InvocationMatcher.java',\n",
       " '4f7060_d973b6_src#org#mockito#internal#configuration#SpyAnnotationEngine.java',\n",
       " '5a03bf_9fb7d8_src#org#mockito#internal#util#reflection#GenericMetadataSupport.java',\n",
       " '5cb377_57bafd_src#org#mockito#internal#invocation#InvocationMatcher.java',\n",
       " '62b6bd_81a380_src#org#mockito#internal#stubbing#defaultanswers#ReturnsSmartNulls.java',\n",
       " '7a647a_a154b6_src#org#mockito#internal#util#reflection#GenericMaster.java',\n",
       " '84c142_ecbd95_src#org#mockito#internal#invocation#Invocation.java',\n",
       " '8912aa_c03a47_src#org#mockito#internal#creation#instance#ConstructorInstantiator.java',\n",
       " '8ceb04_6237bd_src#org#mockito#internal#stubbing#defaultanswers#ReturnsEmptyValues.java',\n",
       " '918f0a_df41fb_src#org#mockito#internal#matchers#Same.java',\n",
       " 'a8ec4f_19ade1_src#org#mockito#internal#util#MockUtil.java',\n",
       " 'c1f2c4_a663d2_src#org#mockito#internal#verification#argumentmatching#ArgumentMatchingTool.java']"
      ]
     },
     "execution_count": 105,
     "metadata": {},
     "output_type": "execute_result"
    }
   ],
   "source": [
    "lines"
   ]
  },
  {
   "cell_type": "code",
   "execution_count": null,
   "metadata": {
    "collapsed": true
   },
   "outputs": [],
   "source": []
  }
 ],
 "metadata": {
  "kernelspec": {
   "display_name": "Python [conda env:py36]",
   "language": "python",
   "name": "conda-env-py36-py"
  },
  "language_info": {
   "codemirror_mode": {
    "name": "ipython",
    "version": 3
   },
   "file_extension": ".py",
   "mimetype": "text/x-python",
   "name": "python",
   "nbconvert_exporter": "python",
   "pygments_lexer": "ipython3",
   "version": "3.6.7"
  }
 },
 "nbformat": 4,
 "nbformat_minor": 1
}
